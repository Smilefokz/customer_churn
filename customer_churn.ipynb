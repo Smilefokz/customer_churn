{
 "cells": [
  {
   "cell_type": "markdown",
   "id": "e01911b1",
   "metadata": {},
   "source": [
    "# Отток клиентов"
   ]
  },
  {
   "cell_type": "markdown",
   "id": "ad4c79e0",
   "metadata": {},
   "source": [
    "Из «Бета-Банка» стали уходить клиенты. Каждый месяц. Немного, но заметно. Банковские маркетологи посчитали: сохранять текущих клиентов дешевле, чем привлекать новых.\n",
    "\n",
    "Нужно спрогнозировать, уйдёт клиент из банка в ближайшее время или нет. У нас имеются исторические данные о поведении клиентов и расторжении договоров с банком. \n",
    "\n",
    "Необходимо построить модель с предельно большим значением *F1*-меры.\n",
    "\n",
    "Источник данных: [https://www.kaggle.com/barelydedicated/bank-customer-churn-modeling](https://www.kaggle.com/barelydedicated/bank-customer-churn-modeling)"
   ]
  },
  {
   "cell_type": "markdown",
   "id": "fad82315",
   "metadata": {},
   "source": [
    "**Ход работы:**\n",
    "- [Подготовка данных](#step_1)\n",
    "- [Исследование задачи](#step_2)\n",
    "- [Борьба с дисбалансом](#step_3)\n",
    "    - [Взвешивание классов](#step_3_1)\n",
    "    - [Увеличение выборки](#step_3_2)\n",
    "    - [Уменьшение выборки](#step_3_3)\n",
    "- [Тестирование модели](#step_4)\n",
    "- [Вывод](#step_5)"
   ]
  },
  {
   "cell_type": "markdown",
   "id": "498c9143",
   "metadata": {},
   "source": [
    "<a id='step_1'></a>\n",
    "## Подготовка данных"
   ]
  },
  {
   "cell_type": "code",
   "execution_count": 1,
   "id": "ff5d7936",
   "metadata": {},
   "outputs": [
    {
     "name": "stdout",
     "output_type": "stream",
     "text": [
      "Collecting fast_ml\n",
      "  Downloading fast_ml-3.68-py3-none-any.whl (42 kB)\n",
      "     -------------------------------------- 42.1/42.1 kB 338.6 kB/s eta 0:00:00\n",
      "Installing collected packages: fast_ml\n",
      "Successfully installed fast_ml-3.68\n",
      "Requirement already satisfied: scikit-learn==1.1.3 in d:\\documentz\\envs\\ds_practicum_env\\lib\\site-packages (1.1.3)\n",
      "Requirement already satisfied: numpy>=1.17.3 in d:\\documentz\\envs\\ds_practicum_env\\lib\\site-packages (from scikit-learn==1.1.3) (1.20.1)\n",
      "Requirement already satisfied: threadpoolctl>=2.0.0 in d:\\documentz\\envs\\ds_practicum_env\\lib\\site-packages (from scikit-learn==1.1.3) (3.1.0)\n",
      "Requirement already satisfied: scipy>=1.3.2 in d:\\documentz\\envs\\ds_practicum_env\\lib\\site-packages (from scikit-learn==1.1.3) (1.8.0)\n",
      "Requirement already satisfied: joblib>=1.0.0 in d:\\documentz\\envs\\ds_practicum_env\\lib\\site-packages (from scikit-learn==1.1.3) (1.2.0)\n",
      "Requirement already satisfied: imblearn in d:\\documentz\\envs\\ds_practicum_env\\lib\\site-packages (0.0)\n",
      "Requirement already satisfied: imbalanced-learn in d:\\documentz\\envs\\ds_practicum_env\\lib\\site-packages (from imblearn) (0.10.1)\n",
      "Requirement already satisfied: threadpoolctl>=2.0.0 in d:\\documentz\\envs\\ds_practicum_env\\lib\\site-packages (from imbalanced-learn->imblearn) (3.1.0)\n",
      "Requirement already satisfied: joblib>=1.1.1 in d:\\documentz\\envs\\ds_practicum_env\\lib\\site-packages (from imbalanced-learn->imblearn) (1.2.0)\n",
      "Requirement already satisfied: scipy>=1.3.2 in d:\\documentz\\envs\\ds_practicum_env\\lib\\site-packages (from imbalanced-learn->imblearn) (1.8.0)\n",
      "Requirement already satisfied: scikit-learn>=1.0.2 in d:\\documentz\\envs\\ds_practicum_env\\lib\\site-packages (from imbalanced-learn->imblearn) (1.1.3)\n",
      "Requirement already satisfied: numpy>=1.17.3 in d:\\documentz\\envs\\ds_practicum_env\\lib\\site-packages (from imbalanced-learn->imblearn) (1.20.1)\n"
     ]
    }
   ],
   "source": [
    "# Установим необходимые библиотеки:\n",
    "# fast_ml:\n",
    "!pip install fast_ml\n",
    "# sklearn версии 1.1.3:\n",
    "!pip install scikit-learn==1.1.3\n",
    "# imblearn:\n",
    "! pip install imblearn"
   ]
  },
  {
   "cell_type": "code",
   "execution_count": 2,
   "id": "e88501e8",
   "metadata": {},
   "outputs": [],
   "source": [
    "# Импортируем необходимые библиотеки и модули:\n",
    "# pandas:\n",
    "import pandas as pd\n",
    "# re:\n",
    "import re\n",
    "# fast_ml:\n",
    "from fast_ml.model_development import train_valid_test_split\n",
    "# sklearn:\n",
    "from sklearn.preprocessing import (\n",
    "    OneHotEncoder,\n",
    "    StandardScaler\n",
    ")\n",
    "from sklearn.tree import DecisionTreeClassifier\n",
    "from sklearn.ensemble import RandomForestClassifier\n",
    "from sklearn.linear_model import LogisticRegression\n",
    "from sklearn.metrics import (\n",
    "    f1_score,\n",
    "    roc_curve,\n",
    "    roc_auc_score,\n",
    "    recall_score\n",
    ")\n",
    "# imblearn:\n",
    "from imblearn.over_sampling import SMOTE\n",
    "from imblearn.under_sampling import RandomUnderSampler\n",
    "# matplotlib:\n",
    "import matplotlib.pyplot as plt"
   ]
  },
  {
   "cell_type": "code",
   "execution_count": 3,
   "id": "2c203014",
   "metadata": {},
   "outputs": [],
   "source": [
    "# Объявим переменную df и прочитаем данные из csv-файла 'Churn.csv':\n",
    "df = pd.read_csv('Churn.csv')"
   ]
  },
  {
   "cell_type": "code",
   "execution_count": 4,
   "id": "ee136e0e",
   "metadata": {},
   "outputs": [
    {
     "data": {
      "text/html": [
       "<div>\n",
       "<style scoped>\n",
       "    .dataframe tbody tr th:only-of-type {\n",
       "        vertical-align: middle;\n",
       "    }\n",
       "\n",
       "    .dataframe tbody tr th {\n",
       "        vertical-align: top;\n",
       "    }\n",
       "\n",
       "    .dataframe thead th {\n",
       "        text-align: right;\n",
       "    }\n",
       "</style>\n",
       "<table border=\"1\" class=\"dataframe\">\n",
       "  <thead>\n",
       "    <tr style=\"text-align: right;\">\n",
       "      <th></th>\n",
       "      <th>RowNumber</th>\n",
       "      <th>CustomerId</th>\n",
       "      <th>Surname</th>\n",
       "      <th>CreditScore</th>\n",
       "      <th>Geography</th>\n",
       "      <th>Gender</th>\n",
       "      <th>Age</th>\n",
       "      <th>Tenure</th>\n",
       "      <th>Balance</th>\n",
       "      <th>NumOfProducts</th>\n",
       "      <th>HasCrCard</th>\n",
       "      <th>IsActiveMember</th>\n",
       "      <th>EstimatedSalary</th>\n",
       "      <th>Exited</th>\n",
       "    </tr>\n",
       "  </thead>\n",
       "  <tbody>\n",
       "    <tr>\n",
       "      <th>0</th>\n",
       "      <td>1</td>\n",
       "      <td>15634602</td>\n",
       "      <td>Hargrave</td>\n",
       "      <td>619</td>\n",
       "      <td>France</td>\n",
       "      <td>Female</td>\n",
       "      <td>42</td>\n",
       "      <td>2.0</td>\n",
       "      <td>0.00</td>\n",
       "      <td>1</td>\n",
       "      <td>1</td>\n",
       "      <td>1</td>\n",
       "      <td>101348.88</td>\n",
       "      <td>1</td>\n",
       "    </tr>\n",
       "    <tr>\n",
       "      <th>1</th>\n",
       "      <td>2</td>\n",
       "      <td>15647311</td>\n",
       "      <td>Hill</td>\n",
       "      <td>608</td>\n",
       "      <td>Spain</td>\n",
       "      <td>Female</td>\n",
       "      <td>41</td>\n",
       "      <td>1.0</td>\n",
       "      <td>83807.86</td>\n",
       "      <td>1</td>\n",
       "      <td>0</td>\n",
       "      <td>1</td>\n",
       "      <td>112542.58</td>\n",
       "      <td>0</td>\n",
       "    </tr>\n",
       "    <tr>\n",
       "      <th>2</th>\n",
       "      <td>3</td>\n",
       "      <td>15619304</td>\n",
       "      <td>Onio</td>\n",
       "      <td>502</td>\n",
       "      <td>France</td>\n",
       "      <td>Female</td>\n",
       "      <td>42</td>\n",
       "      <td>8.0</td>\n",
       "      <td>159660.80</td>\n",
       "      <td>3</td>\n",
       "      <td>1</td>\n",
       "      <td>0</td>\n",
       "      <td>113931.57</td>\n",
       "      <td>1</td>\n",
       "    </tr>\n",
       "    <tr>\n",
       "      <th>3</th>\n",
       "      <td>4</td>\n",
       "      <td>15701354</td>\n",
       "      <td>Boni</td>\n",
       "      <td>699</td>\n",
       "      <td>France</td>\n",
       "      <td>Female</td>\n",
       "      <td>39</td>\n",
       "      <td>1.0</td>\n",
       "      <td>0.00</td>\n",
       "      <td>2</td>\n",
       "      <td>0</td>\n",
       "      <td>0</td>\n",
       "      <td>93826.63</td>\n",
       "      <td>0</td>\n",
       "    </tr>\n",
       "    <tr>\n",
       "      <th>4</th>\n",
       "      <td>5</td>\n",
       "      <td>15737888</td>\n",
       "      <td>Mitchell</td>\n",
       "      <td>850</td>\n",
       "      <td>Spain</td>\n",
       "      <td>Female</td>\n",
       "      <td>43</td>\n",
       "      <td>2.0</td>\n",
       "      <td>125510.82</td>\n",
       "      <td>1</td>\n",
       "      <td>1</td>\n",
       "      <td>1</td>\n",
       "      <td>79084.10</td>\n",
       "      <td>0</td>\n",
       "    </tr>\n",
       "    <tr>\n",
       "      <th>5</th>\n",
       "      <td>6</td>\n",
       "      <td>15574012</td>\n",
       "      <td>Chu</td>\n",
       "      <td>645</td>\n",
       "      <td>Spain</td>\n",
       "      <td>Male</td>\n",
       "      <td>44</td>\n",
       "      <td>8.0</td>\n",
       "      <td>113755.78</td>\n",
       "      <td>2</td>\n",
       "      <td>1</td>\n",
       "      <td>0</td>\n",
       "      <td>149756.71</td>\n",
       "      <td>1</td>\n",
       "    </tr>\n",
       "    <tr>\n",
       "      <th>6</th>\n",
       "      <td>7</td>\n",
       "      <td>15592531</td>\n",
       "      <td>Bartlett</td>\n",
       "      <td>822</td>\n",
       "      <td>France</td>\n",
       "      <td>Male</td>\n",
       "      <td>50</td>\n",
       "      <td>7.0</td>\n",
       "      <td>0.00</td>\n",
       "      <td>2</td>\n",
       "      <td>1</td>\n",
       "      <td>1</td>\n",
       "      <td>10062.80</td>\n",
       "      <td>0</td>\n",
       "    </tr>\n",
       "    <tr>\n",
       "      <th>7</th>\n",
       "      <td>8</td>\n",
       "      <td>15656148</td>\n",
       "      <td>Obinna</td>\n",
       "      <td>376</td>\n",
       "      <td>Germany</td>\n",
       "      <td>Female</td>\n",
       "      <td>29</td>\n",
       "      <td>4.0</td>\n",
       "      <td>115046.74</td>\n",
       "      <td>4</td>\n",
       "      <td>1</td>\n",
       "      <td>0</td>\n",
       "      <td>119346.88</td>\n",
       "      <td>1</td>\n",
       "    </tr>\n",
       "    <tr>\n",
       "      <th>8</th>\n",
       "      <td>9</td>\n",
       "      <td>15792365</td>\n",
       "      <td>He</td>\n",
       "      <td>501</td>\n",
       "      <td>France</td>\n",
       "      <td>Male</td>\n",
       "      <td>44</td>\n",
       "      <td>4.0</td>\n",
       "      <td>142051.07</td>\n",
       "      <td>2</td>\n",
       "      <td>0</td>\n",
       "      <td>1</td>\n",
       "      <td>74940.50</td>\n",
       "      <td>0</td>\n",
       "    </tr>\n",
       "    <tr>\n",
       "      <th>9</th>\n",
       "      <td>10</td>\n",
       "      <td>15592389</td>\n",
       "      <td>H?</td>\n",
       "      <td>684</td>\n",
       "      <td>France</td>\n",
       "      <td>Male</td>\n",
       "      <td>27</td>\n",
       "      <td>2.0</td>\n",
       "      <td>134603.88</td>\n",
       "      <td>1</td>\n",
       "      <td>1</td>\n",
       "      <td>1</td>\n",
       "      <td>71725.73</td>\n",
       "      <td>0</td>\n",
       "    </tr>\n",
       "  </tbody>\n",
       "</table>\n",
       "</div>"
      ],
      "text/plain": [
       "   RowNumber  CustomerId   Surname  CreditScore Geography  Gender  Age  \\\n",
       "0          1    15634602  Hargrave          619    France  Female   42   \n",
       "1          2    15647311      Hill          608     Spain  Female   41   \n",
       "2          3    15619304      Onio          502    France  Female   42   \n",
       "3          4    15701354      Boni          699    France  Female   39   \n",
       "4          5    15737888  Mitchell          850     Spain  Female   43   \n",
       "5          6    15574012       Chu          645     Spain    Male   44   \n",
       "6          7    15592531  Bartlett          822    France    Male   50   \n",
       "7          8    15656148    Obinna          376   Germany  Female   29   \n",
       "8          9    15792365        He          501    France    Male   44   \n",
       "9         10    15592389        H?          684    France    Male   27   \n",
       "\n",
       "   Tenure    Balance  NumOfProducts  HasCrCard  IsActiveMember  \\\n",
       "0     2.0       0.00              1          1               1   \n",
       "1     1.0   83807.86              1          0               1   \n",
       "2     8.0  159660.80              3          1               0   \n",
       "3     1.0       0.00              2          0               0   \n",
       "4     2.0  125510.82              1          1               1   \n",
       "5     8.0  113755.78              2          1               0   \n",
       "6     7.0       0.00              2          1               1   \n",
       "7     4.0  115046.74              4          1               0   \n",
       "8     4.0  142051.07              2          0               1   \n",
       "9     2.0  134603.88              1          1               1   \n",
       "\n",
       "   EstimatedSalary  Exited  \n",
       "0        101348.88       1  \n",
       "1        112542.58       0  \n",
       "2        113931.57       1  \n",
       "3         93826.63       0  \n",
       "4         79084.10       0  \n",
       "5        149756.71       1  \n",
       "6         10062.80       0  \n",
       "7        119346.88       1  \n",
       "8         74940.50       0  \n",
       "9         71725.73       0  "
      ]
     },
     "execution_count": 4,
     "metadata": {},
     "output_type": "execute_result"
    }
   ],
   "source": [
    "# Выведем на экран первые 10 строк всех столбцов датафрейма df:\n",
    "pd.set_option('display.max_columns', None)\n",
    "df.head(10)"
   ]
  },
  {
   "cell_type": "markdown",
   "id": "245c683c",
   "metadata": {},
   "source": [
    "Краткая информация о столбцах:\n",
    "- **RowNumber** — индекс строки в данных;\n",
    "- **CustomerId** — уникальный идентификатор клиента;\n",
    "- **Surname** — фамилия;\n",
    "- **CreditScore** — кредитный рейтинг;\n",
    "- **Geography** — страна проживания;\n",
    "- **Gender** — пол;\n",
    "- **Age** — возраст;\n",
    "- **Tenure** — сколько лет человек является клиентом банка;\n",
    "- **Balance** — баланс на счёте;\n",
    "- **NumOfProducts** — количество продуктов банка, используемых клиентом;\n",
    "- **HasCrCard** — наличие кредитной карты;\n",
    "- **IsActiveMember** — активность клиента;\n",
    "- **EstimatedSalary** — предполагаемая зарплата;\n",
    "- **Exited** — факт ухода клиента."
   ]
  },
  {
   "cell_type": "markdown",
   "id": "5f106e7e",
   "metadata": {},
   "source": [
    "Обратим внимание, что столбцы **CustomerId** и **Surname** в данном датафрейме выполняют идентичные функции - являются идентификатором уникальности каждого клиента банка. Выясним, сколько одинаковых клиентов присутствует в датафрейме df."
   ]
  },
  {
   "cell_type": "code",
   "execution_count": 5,
   "id": "c9499ff3",
   "metadata": {},
   "outputs": [
    {
     "data": {
      "text/plain": [
       "0"
      ]
     },
     "execution_count": 5,
     "metadata": {},
     "output_type": "execute_result"
    }
   ],
   "source": [
    "# Найдём количество повторяющихся значений в столбце CustomerId:\n",
    "df.duplicated(subset=['CustomerId']).sum()"
   ]
  },
  {
   "cell_type": "markdown",
   "id": "8ea993a3",
   "metadata": {},
   "source": [
    "Мы выяснили, что каждая строка датафрейма - это уникальный клиент. Для дальнейшего анализа данных и обучения моделей столбцы **RowNumber**,\t**CustomerId** и **Surname** нам не понадобятся, так как не несут в себе важной информации о клиентах, а лишь добавляют новые значения."
   ]
  },
  {
   "cell_type": "code",
   "execution_count": 6,
   "id": "1056ef5c",
   "metadata": {},
   "outputs": [],
   "source": [
    "# Создадим новый датафрейм new_df без столбцов с избыточной информацией:\n",
    "new_df = df.drop(['RowNumber', 'CustomerId', 'Surname'], axis=1)"
   ]
  },
  {
   "cell_type": "code",
   "execution_count": 7,
   "id": "e438999a",
   "metadata": {},
   "outputs": [
    {
     "data": {
      "text/plain": [
       "Index(['credit_score', 'geography', 'gender', 'age', 'tenure', 'balance',\n",
       "       'num_of_products', 'has_cr_card', 'is_active_member',\n",
       "       'estimated_salary', 'exited'],\n",
       "      dtype='object')"
      ]
     },
     "execution_count": 7,
     "metadata": {},
     "output_type": "execute_result"
    }
   ],
   "source": [
    "# Для удобства работы с данными поменяем наименования столбцов в полученном датафрейме new_df:\n",
    "new_df.columns = [re.sub(r'(?<!^)(?=[A-Z])', '_', i).lower() for i in new_df.columns]\n",
    "# Проверим внесённые изменения:\n",
    "new_df.columns"
   ]
  },
  {
   "cell_type": "code",
   "execution_count": 8,
   "id": "2ff2b730",
   "metadata": {},
   "outputs": [
    {
     "name": "stdout",
     "output_type": "stream",
     "text": [
      "<class 'pandas.core.frame.DataFrame'>\n",
      "RangeIndex: 10000 entries, 0 to 9999\n",
      "Data columns (total 11 columns):\n",
      " #   Column            Non-Null Count  Dtype  \n",
      "---  ------            --------------  -----  \n",
      " 0   credit_score      10000 non-null  int64  \n",
      " 1   geography         10000 non-null  object \n",
      " 2   gender            10000 non-null  object \n",
      " 3   age               10000 non-null  int64  \n",
      " 4   tenure            9091 non-null   float64\n",
      " 5   balance           10000 non-null  float64\n",
      " 6   num_of_products   10000 non-null  int64  \n",
      " 7   has_cr_card       10000 non-null  int64  \n",
      " 8   is_active_member  10000 non-null  int64  \n",
      " 9   estimated_salary  10000 non-null  float64\n",
      " 10  exited            10000 non-null  int64  \n",
      "dtypes: float64(3), int64(6), object(2)\n",
      "memory usage: 859.5+ KB\n"
     ]
    }
   ],
   "source": [
    "# Выведем общую информацию о датафрейме new_df:\n",
    "new_df.info()"
   ]
  },
  {
   "cell_type": "markdown",
   "id": "ae0ab2e5",
   "metadata": {},
   "source": [
    "Обратим внимание на столбец **tenure** (сколько лет человек является клиентом банка) - единственный столбец с пропущенными значениями."
   ]
  },
  {
   "cell_type": "code",
   "execution_count": 9,
   "id": "8d093968",
   "metadata": {},
   "outputs": [
    {
     "data": {
      "text/html": [
       "<div>\n",
       "<style scoped>\n",
       "    .dataframe tbody tr th:only-of-type {\n",
       "        vertical-align: middle;\n",
       "    }\n",
       "\n",
       "    .dataframe tbody tr th {\n",
       "        vertical-align: top;\n",
       "    }\n",
       "\n",
       "    .dataframe thead th {\n",
       "        text-align: right;\n",
       "    }\n",
       "</style>\n",
       "<table border=\"1\" class=\"dataframe\">\n",
       "  <thead>\n",
       "    <tr style=\"text-align: right;\">\n",
       "      <th></th>\n",
       "      <th>credit_score</th>\n",
       "      <th>geography</th>\n",
       "      <th>gender</th>\n",
       "      <th>age</th>\n",
       "      <th>tenure</th>\n",
       "      <th>balance</th>\n",
       "      <th>num_of_products</th>\n",
       "      <th>has_cr_card</th>\n",
       "      <th>is_active_member</th>\n",
       "      <th>estimated_salary</th>\n",
       "      <th>exited</th>\n",
       "    </tr>\n",
       "  </thead>\n",
       "  <tbody>\n",
       "    <tr>\n",
       "      <th>30</th>\n",
       "      <td>591</td>\n",
       "      <td>Spain</td>\n",
       "      <td>Female</td>\n",
       "      <td>39</td>\n",
       "      <td>NaN</td>\n",
       "      <td>0.00</td>\n",
       "      <td>3</td>\n",
       "      <td>1</td>\n",
       "      <td>0</td>\n",
       "      <td>140469.38</td>\n",
       "      <td>1</td>\n",
       "    </tr>\n",
       "    <tr>\n",
       "      <th>48</th>\n",
       "      <td>550</td>\n",
       "      <td>Germany</td>\n",
       "      <td>Male</td>\n",
       "      <td>38</td>\n",
       "      <td>NaN</td>\n",
       "      <td>103391.38</td>\n",
       "      <td>1</td>\n",
       "      <td>0</td>\n",
       "      <td>1</td>\n",
       "      <td>90878.13</td>\n",
       "      <td>0</td>\n",
       "    </tr>\n",
       "    <tr>\n",
       "      <th>51</th>\n",
       "      <td>585</td>\n",
       "      <td>Germany</td>\n",
       "      <td>Male</td>\n",
       "      <td>36</td>\n",
       "      <td>NaN</td>\n",
       "      <td>146050.97</td>\n",
       "      <td>2</td>\n",
       "      <td>0</td>\n",
       "      <td>0</td>\n",
       "      <td>86424.57</td>\n",
       "      <td>0</td>\n",
       "    </tr>\n",
       "    <tr>\n",
       "      <th>53</th>\n",
       "      <td>655</td>\n",
       "      <td>Germany</td>\n",
       "      <td>Male</td>\n",
       "      <td>41</td>\n",
       "      <td>NaN</td>\n",
       "      <td>125561.97</td>\n",
       "      <td>1</td>\n",
       "      <td>0</td>\n",
       "      <td>0</td>\n",
       "      <td>164040.94</td>\n",
       "      <td>1</td>\n",
       "    </tr>\n",
       "    <tr>\n",
       "      <th>60</th>\n",
       "      <td>742</td>\n",
       "      <td>Germany</td>\n",
       "      <td>Male</td>\n",
       "      <td>35</td>\n",
       "      <td>NaN</td>\n",
       "      <td>136857.00</td>\n",
       "      <td>1</td>\n",
       "      <td>0</td>\n",
       "      <td>0</td>\n",
       "      <td>84509.57</td>\n",
       "      <td>0</td>\n",
       "    </tr>\n",
       "    <tr>\n",
       "      <th>82</th>\n",
       "      <td>543</td>\n",
       "      <td>France</td>\n",
       "      <td>Female</td>\n",
       "      <td>36</td>\n",
       "      <td>NaN</td>\n",
       "      <td>0.00</td>\n",
       "      <td>2</td>\n",
       "      <td>0</td>\n",
       "      <td>0</td>\n",
       "      <td>26019.59</td>\n",
       "      <td>0</td>\n",
       "    </tr>\n",
       "    <tr>\n",
       "      <th>85</th>\n",
       "      <td>652</td>\n",
       "      <td>Spain</td>\n",
       "      <td>Female</td>\n",
       "      <td>75</td>\n",
       "      <td>NaN</td>\n",
       "      <td>0.00</td>\n",
       "      <td>2</td>\n",
       "      <td>1</td>\n",
       "      <td>1</td>\n",
       "      <td>114675.75</td>\n",
       "      <td>0</td>\n",
       "    </tr>\n",
       "    <tr>\n",
       "      <th>94</th>\n",
       "      <td>730</td>\n",
       "      <td>Spain</td>\n",
       "      <td>Male</td>\n",
       "      <td>42</td>\n",
       "      <td>NaN</td>\n",
       "      <td>0.00</td>\n",
       "      <td>2</td>\n",
       "      <td>0</td>\n",
       "      <td>1</td>\n",
       "      <td>85982.47</td>\n",
       "      <td>0</td>\n",
       "    </tr>\n",
       "    <tr>\n",
       "      <th>99</th>\n",
       "      <td>413</td>\n",
       "      <td>France</td>\n",
       "      <td>Male</td>\n",
       "      <td>34</td>\n",
       "      <td>NaN</td>\n",
       "      <td>0.00</td>\n",
       "      <td>2</td>\n",
       "      <td>0</td>\n",
       "      <td>0</td>\n",
       "      <td>6534.18</td>\n",
       "      <td>0</td>\n",
       "    </tr>\n",
       "    <tr>\n",
       "      <th>111</th>\n",
       "      <td>538</td>\n",
       "      <td>Germany</td>\n",
       "      <td>Male</td>\n",
       "      <td>39</td>\n",
       "      <td>NaN</td>\n",
       "      <td>108055.10</td>\n",
       "      <td>2</td>\n",
       "      <td>1</td>\n",
       "      <td>0</td>\n",
       "      <td>27231.26</td>\n",
       "      <td>0</td>\n",
       "    </tr>\n",
       "  </tbody>\n",
       "</table>\n",
       "</div>"
      ],
      "text/plain": [
       "     credit_score geography  gender  age  tenure    balance  num_of_products  \\\n",
       "30            591     Spain  Female   39     NaN       0.00                3   \n",
       "48            550   Germany    Male   38     NaN  103391.38                1   \n",
       "51            585   Germany    Male   36     NaN  146050.97                2   \n",
       "53            655   Germany    Male   41     NaN  125561.97                1   \n",
       "60            742   Germany    Male   35     NaN  136857.00                1   \n",
       "82            543    France  Female   36     NaN       0.00                2   \n",
       "85            652     Spain  Female   75     NaN       0.00                2   \n",
       "94            730     Spain    Male   42     NaN       0.00                2   \n",
       "99            413    France    Male   34     NaN       0.00                2   \n",
       "111           538   Germany    Male   39     NaN  108055.10                2   \n",
       "\n",
       "     has_cr_card  is_active_member  estimated_salary  exited  \n",
       "30             1                 0         140469.38       1  \n",
       "48             0                 1          90878.13       0  \n",
       "51             0                 0          86424.57       0  \n",
       "53             0                 0         164040.94       1  \n",
       "60             0                 0          84509.57       0  \n",
       "82             0                 0          26019.59       0  \n",
       "85             1                 1         114675.75       0  \n",
       "94             0                 1          85982.47       0  \n",
       "99             0                 0           6534.18       0  \n",
       "111            1                 0          27231.26       0  "
      ]
     },
     "execution_count": 9,
     "metadata": {},
     "output_type": "execute_result"
    }
   ],
   "source": [
    "# Выведем на экран первые 10 строк датафрейма new_df с пропущенными значениями:\n",
    "new_df.query('tenure.isna()').head(10)"
   ]
  },
  {
   "cell_type": "code",
   "execution_count": 10,
   "id": "dfd12ee7",
   "metadata": {},
   "outputs": [
    {
     "data": {
      "text/plain": [
       "9.09"
      ]
     },
     "execution_count": 10,
     "metadata": {},
     "output_type": "execute_result"
    }
   ],
   "source": [
    "# Найдём процент пропущенных значений в столбце 'tenure':\n",
    "len(new_df.query('tenure.isna()'))/len(new_df) * 100"
   ]
  },
  {
   "cell_type": "markdown",
   "id": "8936a03c",
   "metadata": {},
   "source": [
    "Так как каких-либо явных закономерностей в строках с пропущенными данными не обнаружено, мы не можем восстановить точные значения. Замена пропусков усреднёнными значениями может сильно исказить реальную картину. Для более точных предсказаний, избавимся от пропущенных значений, удалив **9.09%** исходных данных."
   ]
  },
  {
   "cell_type": "code",
   "execution_count": 11,
   "id": "63112231",
   "metadata": {},
   "outputs": [
    {
     "data": {
      "text/plain": [
       "credit_score        0\n",
       "geography           0\n",
       "gender              0\n",
       "age                 0\n",
       "tenure              0\n",
       "balance             0\n",
       "num_of_products     0\n",
       "has_cr_card         0\n",
       "is_active_member    0\n",
       "estimated_salary    0\n",
       "exited              0\n",
       "dtype: int64"
      ]
     },
     "execution_count": 11,
     "metadata": {},
     "output_type": "execute_result"
    }
   ],
   "source": [
    "# Удалим строки с пропущенными значениями в столбце 'tenure':\n",
    "new_df = new_df.dropna(subset=['tenure'])\n",
    "# Проверим внесённые изменения:\n",
    "new_df.isna().sum()"
   ]
  },
  {
   "cell_type": "markdown",
   "id": "c7378d47",
   "metadata": {},
   "source": [
    "Рассмотрим, как в процентом соотношении представлены данные об уходе клиентов из банка в датафрейме new_df."
   ]
  },
  {
   "cell_type": "code",
   "execution_count": 12,
   "id": "f5fc5c82",
   "metadata": {},
   "outputs": [
    {
     "data": {
      "text/plain": [
       "20.393796062039378"
      ]
     },
     "execution_count": 12,
     "metadata": {},
     "output_type": "execute_result"
    }
   ],
   "source": [
    "# Выясним процент клиентов, покинувших банк:\n",
    "len(new_df.query('exited == 1'))/len(new_df) * 100"
   ]
  },
  {
   "cell_type": "markdown",
   "id": "92c3b2f1",
   "metadata": {},
   "source": [
    "В предоставленных нам данных примерно **20.4%** клиентов решили уйти из банка, **79.6%** являются клиентами банка по настоящее время. Наблюдается дисбаланс классов."
   ]
  },
  {
   "cell_type": "code",
   "execution_count": 13,
   "id": "c40de533",
   "metadata": {},
   "outputs": [
    {
     "data": {
      "text/plain": [
       "(9091, 11)"
      ]
     },
     "execution_count": 13,
     "metadata": {},
     "output_type": "execute_result"
    }
   ],
   "source": [
    "# Выведем на экран размеры датафрейма new_df:\n",
    "new_df.shape"
   ]
  },
  {
   "cell_type": "code",
   "execution_count": 14,
   "id": "bd7f3056",
   "metadata": {},
   "outputs": [],
   "source": [
    "# Раздели датафрейм new_df на тренировочную (features_train, target_train),\n",
    "# валидационную (features_valid, target_valid) и тестовую (features_test, target_test) выборки:\n",
    "features_train, target_train, features_valid, target_valid, features_test, target_test = train_valid_test_split(\n",
    "new_df, target='exited', train_size=0.6, valid_size=0.2, test_size=0.2, random_state=12345\n",
    ")"
   ]
  },
  {
   "cell_type": "code",
   "execution_count": 15,
   "id": "c2429cb8",
   "metadata": {},
   "outputs": [
    {
     "name": "stdout",
     "output_type": "stream",
     "text": [
      "(5454, 10)\n",
      "(5454,)\n",
      "(1819, 10)\n",
      "(1819,)\n",
      "(1818, 10)\n",
      "(1818,)\n"
     ]
    }
   ],
   "source": [
    "# Выведем на экран размеры получившихся выборок:\n",
    "for sample in [features_train, target_train, features_test, target_test, features_valid, target_valid]:\n",
    "    print(sample.shape)"
   ]
  },
  {
   "cell_type": "markdown",
   "id": "ef403302",
   "metadata": {},
   "source": [
    "**Исходные данные:**\n",
    "- 9091 объект (100%)\n",
    "\n",
    "**Получившиеся выборки:**\n",
    "- 5454 объекта (60%) - тренировочная выборка;\n",
    "- 1819 объектов (20%) - валидационная выборка;\n",
    "- 1818 объектов (20%) - тестовая выборка."
   ]
  },
  {
   "cell_type": "markdown",
   "id": "24b8d8d1",
   "metadata": {},
   "source": [
    "Применим к категориальным признакам типа 'object' прямое кодирование."
   ]
  },
  {
   "cell_type": "code",
   "execution_count": 16,
   "id": "16971aa7",
   "metadata": {},
   "outputs": [
    {
     "data": {
      "text/html": [
       "<style>#sk-container-id-1 {color: black;background-color: white;}#sk-container-id-1 pre{padding: 0;}#sk-container-id-1 div.sk-toggleable {background-color: white;}#sk-container-id-1 label.sk-toggleable__label {cursor: pointer;display: block;width: 100%;margin-bottom: 0;padding: 0.3em;box-sizing: border-box;text-align: center;}#sk-container-id-1 label.sk-toggleable__label-arrow:before {content: \"▸\";float: left;margin-right: 0.25em;color: #696969;}#sk-container-id-1 label.sk-toggleable__label-arrow:hover:before {color: black;}#sk-container-id-1 div.sk-estimator:hover label.sk-toggleable__label-arrow:before {color: black;}#sk-container-id-1 div.sk-toggleable__content {max-height: 0;max-width: 0;overflow: hidden;text-align: left;background-color: #f0f8ff;}#sk-container-id-1 div.sk-toggleable__content pre {margin: 0.2em;color: black;border-radius: 0.25em;background-color: #f0f8ff;}#sk-container-id-1 input.sk-toggleable__control:checked~div.sk-toggleable__content {max-height: 200px;max-width: 100%;overflow: auto;}#sk-container-id-1 input.sk-toggleable__control:checked~label.sk-toggleable__label-arrow:before {content: \"▾\";}#sk-container-id-1 div.sk-estimator input.sk-toggleable__control:checked~label.sk-toggleable__label {background-color: #d4ebff;}#sk-container-id-1 div.sk-label input.sk-toggleable__control:checked~label.sk-toggleable__label {background-color: #d4ebff;}#sk-container-id-1 input.sk-hidden--visually {border: 0;clip: rect(1px 1px 1px 1px);clip: rect(1px, 1px, 1px, 1px);height: 1px;margin: -1px;overflow: hidden;padding: 0;position: absolute;width: 1px;}#sk-container-id-1 div.sk-estimator {font-family: monospace;background-color: #f0f8ff;border: 1px dotted black;border-radius: 0.25em;box-sizing: border-box;margin-bottom: 0.5em;}#sk-container-id-1 div.sk-estimator:hover {background-color: #d4ebff;}#sk-container-id-1 div.sk-parallel-item::after {content: \"\";width: 100%;border-bottom: 1px solid gray;flex-grow: 1;}#sk-container-id-1 div.sk-label:hover label.sk-toggleable__label {background-color: #d4ebff;}#sk-container-id-1 div.sk-serial::before {content: \"\";position: absolute;border-left: 1px solid gray;box-sizing: border-box;top: 0;bottom: 0;left: 50%;z-index: 0;}#sk-container-id-1 div.sk-serial {display: flex;flex-direction: column;align-items: center;background-color: white;padding-right: 0.2em;padding-left: 0.2em;position: relative;}#sk-container-id-1 div.sk-item {position: relative;z-index: 1;}#sk-container-id-1 div.sk-parallel {display: flex;align-items: stretch;justify-content: center;background-color: white;position: relative;}#sk-container-id-1 div.sk-item::before, #sk-container-id-1 div.sk-parallel-item::before {content: \"\";position: absolute;border-left: 1px solid gray;box-sizing: border-box;top: 0;bottom: 0;left: 50%;z-index: -1;}#sk-container-id-1 div.sk-parallel-item {display: flex;flex-direction: column;z-index: 1;position: relative;background-color: white;}#sk-container-id-1 div.sk-parallel-item:first-child::after {align-self: flex-end;width: 50%;}#sk-container-id-1 div.sk-parallel-item:last-child::after {align-self: flex-start;width: 50%;}#sk-container-id-1 div.sk-parallel-item:only-child::after {width: 0;}#sk-container-id-1 div.sk-dashed-wrapped {border: 1px dashed gray;margin: 0 0.4em 0.5em 0.4em;box-sizing: border-box;padding-bottom: 0.4em;background-color: white;}#sk-container-id-1 div.sk-label label {font-family: monospace;font-weight: bold;display: inline-block;line-height: 1.2em;}#sk-container-id-1 div.sk-label-container {text-align: center;}#sk-container-id-1 div.sk-container {/* jupyter's `normalize.less` sets `[hidden] { display: none; }` but bootstrap.min.css set `[hidden] { display: none !important; }` so we also need the `!important` here to be able to override the default hidden behavior on the sphinx rendered scikit-learn.org. See: https://github.com/scikit-learn/scikit-learn/issues/21755 */display: inline-block !important;position: relative;}#sk-container-id-1 div.sk-text-repr-fallback {display: none;}</style><div id=\"sk-container-id-1\" class=\"sk-top-container\"><div class=\"sk-text-repr-fallback\"><pre>OneHotEncoder(drop=&#x27;first&#x27;, handle_unknown=&#x27;ignore&#x27;, sparse=False)</pre><b>In a Jupyter environment, please rerun this cell to show the HTML representation or trust the notebook. <br />On GitHub, the HTML representation is unable to render, please try loading this page with nbviewer.org.</b></div><div class=\"sk-container\" hidden><div class=\"sk-item\"><div class=\"sk-estimator sk-toggleable\"><input class=\"sk-toggleable__control sk-hidden--visually\" id=\"sk-estimator-id-1\" type=\"checkbox\" checked><label for=\"sk-estimator-id-1\" class=\"sk-toggleable__label sk-toggleable__label-arrow\">OneHotEncoder</label><div class=\"sk-toggleable__content\"><pre>OneHotEncoder(drop=&#x27;first&#x27;, handle_unknown=&#x27;ignore&#x27;, sparse=False)</pre></div></div></div></div></div>"
      ],
      "text/plain": [
       "OneHotEncoder(drop='first', handle_unknown='ignore', sparse=False)"
      ]
     },
     "execution_count": 16,
     "metadata": {},
     "output_type": "execute_result"
    }
   ],
   "source": [
    "# Создадим список категориальных признаков типа 'object':\n",
    "ohe_features = features_train.select_dtypes(include='object').columns.to_list()\n",
    "# Создадим объект стурктуры OneHotEncoder():\n",
    "# Удалим первый признак из закодированных (drop='first'):\n",
    "# Проигнорируем ранее невстречающиеся значения признака при transform (handle_unknown='ignore'):\n",
    "encoder_ohe = OneHotEncoder(drop='first', handle_unknown='ignore', sparse=False)\n",
    "# Обучим encoder_ohe на заданных категориальных признаках тренировочной выборки:\n",
    "encoder_ohe.fit(features_train[ohe_features])"
   ]
  },
  {
   "cell_type": "code",
   "execution_count": 17,
   "id": "f3a2d116",
   "metadata": {},
   "outputs": [],
   "source": [
    "# Объявим функцию encoder с одним параметром:\n",
    "def encoder(features):\n",
    "    \"\"\"\n",
    "    Функция применяет прямое кодирование к заданной выборке.\n",
    "    \n",
    "    Параметры:\n",
    "    features - датафрейм с признаками для заданной выборки.\n",
    "    \"\"\"\n",
    "# Добавляем закодированные признаки в features:\n",
    "# encoder_ohe.get_feature_names_out() позволяет получить названия колонок\n",
    "    features[\n",
    "        encoder_ohe.get_feature_names_out()\n",
    "    ] = encoder_ohe.transform(features[ohe_features])\n",
    "# Удаляем незакодированные категориальные признаки (изначальные колонки):\n",
    "    features = features.drop(ohe_features, axis=1)\n",
    "# Возвращаем закодированный датафрейм с признаками для заданной выборки:    \n",
    "    return features"
   ]
  },
  {
   "cell_type": "code",
   "execution_count": 18,
   "id": "2d288e4f",
   "metadata": {},
   "outputs": [
    {
     "data": {
      "text/html": [
       "<div>\n",
       "<style scoped>\n",
       "    .dataframe tbody tr th:only-of-type {\n",
       "        vertical-align: middle;\n",
       "    }\n",
       "\n",
       "    .dataframe tbody tr th {\n",
       "        vertical-align: top;\n",
       "    }\n",
       "\n",
       "    .dataframe thead th {\n",
       "        text-align: right;\n",
       "    }\n",
       "</style>\n",
       "<table border=\"1\" class=\"dataframe\">\n",
       "  <thead>\n",
       "    <tr style=\"text-align: right;\">\n",
       "      <th></th>\n",
       "      <th>credit_score</th>\n",
       "      <th>age</th>\n",
       "      <th>tenure</th>\n",
       "      <th>balance</th>\n",
       "      <th>num_of_products</th>\n",
       "      <th>has_cr_card</th>\n",
       "      <th>is_active_member</th>\n",
       "      <th>estimated_salary</th>\n",
       "      <th>geography_Germany</th>\n",
       "      <th>geography_Spain</th>\n",
       "      <th>gender_Male</th>\n",
       "    </tr>\n",
       "  </thead>\n",
       "  <tbody>\n",
       "    <tr>\n",
       "      <th>9344</th>\n",
       "      <td>727</td>\n",
       "      <td>28</td>\n",
       "      <td>2.0</td>\n",
       "      <td>110997.76</td>\n",
       "      <td>1</td>\n",
       "      <td>1</td>\n",
       "      <td>0</td>\n",
       "      <td>101433.76</td>\n",
       "      <td>0.0</td>\n",
       "      <td>0.0</td>\n",
       "      <td>0.0</td>\n",
       "    </tr>\n",
       "    <tr>\n",
       "      <th>3796</th>\n",
       "      <td>537</td>\n",
       "      <td>26</td>\n",
       "      <td>7.0</td>\n",
       "      <td>106397.75</td>\n",
       "      <td>1</td>\n",
       "      <td>0</td>\n",
       "      <td>0</td>\n",
       "      <td>103563.23</td>\n",
       "      <td>0.0</td>\n",
       "      <td>0.0</td>\n",
       "      <td>1.0</td>\n",
       "    </tr>\n",
       "    <tr>\n",
       "      <th>7462</th>\n",
       "      <td>610</td>\n",
       "      <td>40</td>\n",
       "      <td>9.0</td>\n",
       "      <td>0.00</td>\n",
       "      <td>1</td>\n",
       "      <td>1</td>\n",
       "      <td>1</td>\n",
       "      <td>149602.54</td>\n",
       "      <td>0.0</td>\n",
       "      <td>0.0</td>\n",
       "      <td>1.0</td>\n",
       "    </tr>\n",
       "    <tr>\n",
       "      <th>1508</th>\n",
       "      <td>576</td>\n",
       "      <td>36</td>\n",
       "      <td>6.0</td>\n",
       "      <td>0.00</td>\n",
       "      <td>2</td>\n",
       "      <td>1</td>\n",
       "      <td>1</td>\n",
       "      <td>48314.00</td>\n",
       "      <td>0.0</td>\n",
       "      <td>0.0</td>\n",
       "      <td>1.0</td>\n",
       "    </tr>\n",
       "    <tr>\n",
       "      <th>4478</th>\n",
       "      <td>549</td>\n",
       "      <td>31</td>\n",
       "      <td>4.0</td>\n",
       "      <td>0.00</td>\n",
       "      <td>2</td>\n",
       "      <td>0</td>\n",
       "      <td>1</td>\n",
       "      <td>25684.85</td>\n",
       "      <td>0.0</td>\n",
       "      <td>0.0</td>\n",
       "      <td>1.0</td>\n",
       "    </tr>\n",
       "  </tbody>\n",
       "</table>\n",
       "</div>"
      ],
      "text/plain": [
       "      credit_score  age  tenure    balance  num_of_products  has_cr_card  \\\n",
       "9344           727   28     2.0  110997.76                1            1   \n",
       "3796           537   26     7.0  106397.75                1            0   \n",
       "7462           610   40     9.0       0.00                1            1   \n",
       "1508           576   36     6.0       0.00                2            1   \n",
       "4478           549   31     4.0       0.00                2            0   \n",
       "\n",
       "      is_active_member  estimated_salary  geography_Germany  geography_Spain  \\\n",
       "9344                 0         101433.76                0.0              0.0   \n",
       "3796                 0         103563.23                0.0              0.0   \n",
       "7462                 1         149602.54                0.0              0.0   \n",
       "1508                 1          48314.00                0.0              0.0   \n",
       "4478                 1          25684.85                0.0              0.0   \n",
       "\n",
       "      gender_Male  \n",
       "9344          0.0  \n",
       "3796          1.0  \n",
       "7462          1.0  \n",
       "1508          1.0  \n",
       "4478          1.0  "
      ]
     },
     "execution_count": 18,
     "metadata": {},
     "output_type": "execute_result"
    }
   ],
   "source": [
    "# Прямое кодирование тренировочной выборки:\n",
    "features_train = encoder(features_train)\n",
    "# Выведем первые пять строк закодированной выборки:\n",
    "features_train.head()"
   ]
  },
  {
   "cell_type": "code",
   "execution_count": 19,
   "id": "3c69d2ab",
   "metadata": {},
   "outputs": [
    {
     "data": {
      "text/html": [
       "<div>\n",
       "<style scoped>\n",
       "    .dataframe tbody tr th:only-of-type {\n",
       "        vertical-align: middle;\n",
       "    }\n",
       "\n",
       "    .dataframe tbody tr th {\n",
       "        vertical-align: top;\n",
       "    }\n",
       "\n",
       "    .dataframe thead th {\n",
       "        text-align: right;\n",
       "    }\n",
       "</style>\n",
       "<table border=\"1\" class=\"dataframe\">\n",
       "  <thead>\n",
       "    <tr style=\"text-align: right;\">\n",
       "      <th></th>\n",
       "      <th>credit_score</th>\n",
       "      <th>age</th>\n",
       "      <th>tenure</th>\n",
       "      <th>balance</th>\n",
       "      <th>num_of_products</th>\n",
       "      <th>has_cr_card</th>\n",
       "      <th>is_active_member</th>\n",
       "      <th>estimated_salary</th>\n",
       "      <th>geography_Germany</th>\n",
       "      <th>geography_Spain</th>\n",
       "      <th>gender_Male</th>\n",
       "    </tr>\n",
       "  </thead>\n",
       "  <tbody>\n",
       "    <tr>\n",
       "      <th>7445</th>\n",
       "      <td>516</td>\n",
       "      <td>45</td>\n",
       "      <td>4.0</td>\n",
       "      <td>0.00</td>\n",
       "      <td>1</td>\n",
       "      <td>1</td>\n",
       "      <td>0</td>\n",
       "      <td>95273.73</td>\n",
       "      <td>0.0</td>\n",
       "      <td>0.0</td>\n",
       "      <td>0.0</td>\n",
       "    </tr>\n",
       "    <tr>\n",
       "      <th>8620</th>\n",
       "      <td>768</td>\n",
       "      <td>40</td>\n",
       "      <td>8.0</td>\n",
       "      <td>0.00</td>\n",
       "      <td>2</td>\n",
       "      <td>0</td>\n",
       "      <td>1</td>\n",
       "      <td>69080.46</td>\n",
       "      <td>0.0</td>\n",
       "      <td>0.0</td>\n",
       "      <td>0.0</td>\n",
       "    </tr>\n",
       "    <tr>\n",
       "      <th>1714</th>\n",
       "      <td>730</td>\n",
       "      <td>45</td>\n",
       "      <td>6.0</td>\n",
       "      <td>152880.97</td>\n",
       "      <td>1</td>\n",
       "      <td>0</td>\n",
       "      <td>0</td>\n",
       "      <td>162478.11</td>\n",
       "      <td>1.0</td>\n",
       "      <td>0.0</td>\n",
       "      <td>1.0</td>\n",
       "    </tr>\n",
       "    <tr>\n",
       "      <th>5441</th>\n",
       "      <td>751</td>\n",
       "      <td>29</td>\n",
       "      <td>1.0</td>\n",
       "      <td>135536.50</td>\n",
       "      <td>1</td>\n",
       "      <td>1</td>\n",
       "      <td>0</td>\n",
       "      <td>66825.33</td>\n",
       "      <td>0.0</td>\n",
       "      <td>0.0</td>\n",
       "      <td>1.0</td>\n",
       "    </tr>\n",
       "    <tr>\n",
       "      <th>9001</th>\n",
       "      <td>688</td>\n",
       "      <td>32</td>\n",
       "      <td>6.0</td>\n",
       "      <td>124179.30</td>\n",
       "      <td>1</td>\n",
       "      <td>1</td>\n",
       "      <td>1</td>\n",
       "      <td>138759.15</td>\n",
       "      <td>0.0</td>\n",
       "      <td>1.0</td>\n",
       "      <td>1.0</td>\n",
       "    </tr>\n",
       "  </tbody>\n",
       "</table>\n",
       "</div>"
      ],
      "text/plain": [
       "      credit_score  age  tenure    balance  num_of_products  has_cr_card  \\\n",
       "7445           516   45     4.0       0.00                1            1   \n",
       "8620           768   40     8.0       0.00                2            0   \n",
       "1714           730   45     6.0  152880.97                1            0   \n",
       "5441           751   29     1.0  135536.50                1            1   \n",
       "9001           688   32     6.0  124179.30                1            1   \n",
       "\n",
       "      is_active_member  estimated_salary  geography_Germany  geography_Spain  \\\n",
       "7445                 0          95273.73                0.0              0.0   \n",
       "8620                 1          69080.46                0.0              0.0   \n",
       "1714                 0         162478.11                1.0              0.0   \n",
       "5441                 0          66825.33                0.0              0.0   \n",
       "9001                 1         138759.15                0.0              1.0   \n",
       "\n",
       "      gender_Male  \n",
       "7445          0.0  \n",
       "8620          0.0  \n",
       "1714          1.0  \n",
       "5441          1.0  \n",
       "9001          1.0  "
      ]
     },
     "execution_count": 19,
     "metadata": {},
     "output_type": "execute_result"
    }
   ],
   "source": [
    "# Прямое кодирование валидационной выборки:\n",
    "features_valid = encoder(features_valid)\n",
    "# Выведем первые 5 строк закодированной выборки:\n",
    "features_valid.head()"
   ]
  },
  {
   "cell_type": "code",
   "execution_count": 20,
   "id": "1a68a417",
   "metadata": {},
   "outputs": [
    {
     "data": {
      "text/html": [
       "<div>\n",
       "<style scoped>\n",
       "    .dataframe tbody tr th:only-of-type {\n",
       "        vertical-align: middle;\n",
       "    }\n",
       "\n",
       "    .dataframe tbody tr th {\n",
       "        vertical-align: top;\n",
       "    }\n",
       "\n",
       "    .dataframe thead th {\n",
       "        text-align: right;\n",
       "    }\n",
       "</style>\n",
       "<table border=\"1\" class=\"dataframe\">\n",
       "  <thead>\n",
       "    <tr style=\"text-align: right;\">\n",
       "      <th></th>\n",
       "      <th>credit_score</th>\n",
       "      <th>age</th>\n",
       "      <th>tenure</th>\n",
       "      <th>balance</th>\n",
       "      <th>num_of_products</th>\n",
       "      <th>has_cr_card</th>\n",
       "      <th>is_active_member</th>\n",
       "      <th>estimated_salary</th>\n",
       "      <th>geography_Germany</th>\n",
       "      <th>geography_Spain</th>\n",
       "      <th>gender_Male</th>\n",
       "    </tr>\n",
       "  </thead>\n",
       "  <tbody>\n",
       "    <tr>\n",
       "      <th>5170</th>\n",
       "      <td>814</td>\n",
       "      <td>31</td>\n",
       "      <td>4.0</td>\n",
       "      <td>0.00</td>\n",
       "      <td>2</td>\n",
       "      <td>1</td>\n",
       "      <td>1</td>\n",
       "      <td>142029.17</td>\n",
       "      <td>0.0</td>\n",
       "      <td>0.0</td>\n",
       "      <td>0.0</td>\n",
       "    </tr>\n",
       "    <tr>\n",
       "      <th>4180</th>\n",
       "      <td>607</td>\n",
       "      <td>36</td>\n",
       "      <td>10.0</td>\n",
       "      <td>106702.94</td>\n",
       "      <td>2</td>\n",
       "      <td>0</td>\n",
       "      <td>0</td>\n",
       "      <td>198313.69</td>\n",
       "      <td>1.0</td>\n",
       "      <td>0.0</td>\n",
       "      <td>1.0</td>\n",
       "    </tr>\n",
       "    <tr>\n",
       "      <th>7349</th>\n",
       "      <td>632</td>\n",
       "      <td>42</td>\n",
       "      <td>6.0</td>\n",
       "      <td>59972.26</td>\n",
       "      <td>2</td>\n",
       "      <td>0</td>\n",
       "      <td>1</td>\n",
       "      <td>148172.94</td>\n",
       "      <td>1.0</td>\n",
       "      <td>0.0</td>\n",
       "      <td>1.0</td>\n",
       "    </tr>\n",
       "    <tr>\n",
       "      <th>7469</th>\n",
       "      <td>686</td>\n",
       "      <td>35</td>\n",
       "      <td>8.0</td>\n",
       "      <td>105419.73</td>\n",
       "      <td>1</td>\n",
       "      <td>1</td>\n",
       "      <td>0</td>\n",
       "      <td>35356.46</td>\n",
       "      <td>0.0</td>\n",
       "      <td>0.0</td>\n",
       "      <td>0.0</td>\n",
       "    </tr>\n",
       "    <tr>\n",
       "      <th>3467</th>\n",
       "      <td>538</td>\n",
       "      <td>42</td>\n",
       "      <td>1.0</td>\n",
       "      <td>98548.62</td>\n",
       "      <td>2</td>\n",
       "      <td>0</td>\n",
       "      <td>1</td>\n",
       "      <td>94047.75</td>\n",
       "      <td>1.0</td>\n",
       "      <td>0.0</td>\n",
       "      <td>0.0</td>\n",
       "    </tr>\n",
       "  </tbody>\n",
       "</table>\n",
       "</div>"
      ],
      "text/plain": [
       "      credit_score  age  tenure    balance  num_of_products  has_cr_card  \\\n",
       "5170           814   31     4.0       0.00                2            1   \n",
       "4180           607   36    10.0  106702.94                2            0   \n",
       "7349           632   42     6.0   59972.26                2            0   \n",
       "7469           686   35     8.0  105419.73                1            1   \n",
       "3467           538   42     1.0   98548.62                2            0   \n",
       "\n",
       "      is_active_member  estimated_salary  geography_Germany  geography_Spain  \\\n",
       "5170                 1         142029.17                0.0              0.0   \n",
       "4180                 0         198313.69                1.0              0.0   \n",
       "7349                 1         148172.94                1.0              0.0   \n",
       "7469                 0          35356.46                0.0              0.0   \n",
       "3467                 1          94047.75                1.0              0.0   \n",
       "\n",
       "      gender_Male  \n",
       "5170          0.0  \n",
       "4180          1.0  \n",
       "7349          1.0  \n",
       "7469          0.0  \n",
       "3467          0.0  "
      ]
     },
     "execution_count": 20,
     "metadata": {},
     "output_type": "execute_result"
    }
   ],
   "source": [
    "# Прямое кодирование тестовой выборки:\n",
    "features_test = encoder(features_test)\n",
    "# Выведем первые 5 строк закодированной выборки:\n",
    "features_test.head()"
   ]
  },
  {
   "cell_type": "markdown",
   "id": "83ac8047",
   "metadata": {},
   "source": [
    "Произведём масштабирование количественных признаков."
   ]
  },
  {
   "cell_type": "code",
   "execution_count": 21,
   "id": "ba1e0389",
   "metadata": {},
   "outputs": [],
   "source": [
    "pd.options.mode.chained_assignment = None\n",
    "\n",
    "# Создадим переменную, в которую добавим все столбцы с численными признаками:\n",
    "numeric = ['credit_score', 'age', 'tenure', 'balance', 'num_of_products', 'estimated_salary']\n",
    "# Создадим объект стурктуры StandardScaler():\n",
    "scaler = StandardScaler()\n",
    "# произведём настройку объекта scaler на обучающих данных:\n",
    "scaler.fit(features_train[numeric])\n",
    "# Преобразуем обучающую, валидационную и тестовую выборки:\n",
    "features_train[numeric] = scaler.transform(features_train[numeric])\n",
    "features_valid[numeric] = scaler.transform(features_valid[numeric])\n",
    "features_test[numeric] = scaler.transform(features_test[numeric])"
   ]
  },
  {
   "cell_type": "code",
   "execution_count": 22,
   "id": "9936517c",
   "metadata": {},
   "outputs": [
    {
     "data": {
      "text/html": [
       "<div>\n",
       "<style scoped>\n",
       "    .dataframe tbody tr th:only-of-type {\n",
       "        vertical-align: middle;\n",
       "    }\n",
       "\n",
       "    .dataframe tbody tr th {\n",
       "        vertical-align: top;\n",
       "    }\n",
       "\n",
       "    .dataframe thead th {\n",
       "        text-align: right;\n",
       "    }\n",
       "</style>\n",
       "<table border=\"1\" class=\"dataframe\">\n",
       "  <thead>\n",
       "    <tr style=\"text-align: right;\">\n",
       "      <th></th>\n",
       "      <th>credit_score</th>\n",
       "      <th>age</th>\n",
       "      <th>tenure</th>\n",
       "      <th>balance</th>\n",
       "      <th>num_of_products</th>\n",
       "      <th>has_cr_card</th>\n",
       "      <th>is_active_member</th>\n",
       "      <th>estimated_salary</th>\n",
       "      <th>geography_Germany</th>\n",
       "      <th>geography_Spain</th>\n",
       "      <th>gender_Male</th>\n",
       "    </tr>\n",
       "  </thead>\n",
       "  <tbody>\n",
       "    <tr>\n",
       "      <th>9344</th>\n",
       "      <td>0.809075</td>\n",
       "      <td>-1.039327</td>\n",
       "      <td>-1.025995</td>\n",
       "      <td>0.554904</td>\n",
       "      <td>-0.908179</td>\n",
       "      <td>1</td>\n",
       "      <td>0</td>\n",
       "      <td>0.019508</td>\n",
       "      <td>0.0</td>\n",
       "      <td>0.0</td>\n",
       "      <td>0.0</td>\n",
       "    </tr>\n",
       "    <tr>\n",
       "      <th>3796</th>\n",
       "      <td>-1.152518</td>\n",
       "      <td>-1.227561</td>\n",
       "      <td>0.696524</td>\n",
       "      <td>0.480609</td>\n",
       "      <td>-0.908179</td>\n",
       "      <td>0</td>\n",
       "      <td>0</td>\n",
       "      <td>0.056167</td>\n",
       "      <td>0.0</td>\n",
       "      <td>0.0</td>\n",
       "      <td>1.0</td>\n",
       "    </tr>\n",
       "    <tr>\n",
       "      <th>7462</th>\n",
       "      <td>-0.398853</td>\n",
       "      <td>0.090079</td>\n",
       "      <td>1.385532</td>\n",
       "      <td>-1.237830</td>\n",
       "      <td>-0.908179</td>\n",
       "      <td>1</td>\n",
       "      <td>1</td>\n",
       "      <td>0.848738</td>\n",
       "      <td>0.0</td>\n",
       "      <td>0.0</td>\n",
       "      <td>1.0</td>\n",
       "    </tr>\n",
       "    <tr>\n",
       "      <th>1508</th>\n",
       "      <td>-0.749875</td>\n",
       "      <td>-0.286389</td>\n",
       "      <td>0.352020</td>\n",
       "      <td>-1.237830</td>\n",
       "      <td>0.809300</td>\n",
       "      <td>1</td>\n",
       "      <td>1</td>\n",
       "      <td>-0.894953</td>\n",
       "      <td>0.0</td>\n",
       "      <td>0.0</td>\n",
       "      <td>1.0</td>\n",
       "    </tr>\n",
       "    <tr>\n",
       "      <th>4478</th>\n",
       "      <td>-1.028628</td>\n",
       "      <td>-0.756975</td>\n",
       "      <td>-0.336987</td>\n",
       "      <td>-1.237830</td>\n",
       "      <td>0.809300</td>\n",
       "      <td>0</td>\n",
       "      <td>1</td>\n",
       "      <td>-1.284516</td>\n",
       "      <td>0.0</td>\n",
       "      <td>0.0</td>\n",
       "      <td>1.0</td>\n",
       "    </tr>\n",
       "  </tbody>\n",
       "</table>\n",
       "</div>"
      ],
      "text/plain": [
       "      credit_score       age    tenure   balance  num_of_products  \\\n",
       "9344      0.809075 -1.039327 -1.025995  0.554904        -0.908179   \n",
       "3796     -1.152518 -1.227561  0.696524  0.480609        -0.908179   \n",
       "7462     -0.398853  0.090079  1.385532 -1.237830        -0.908179   \n",
       "1508     -0.749875 -0.286389  0.352020 -1.237830         0.809300   \n",
       "4478     -1.028628 -0.756975 -0.336987 -1.237830         0.809300   \n",
       "\n",
       "      has_cr_card  is_active_member  estimated_salary  geography_Germany  \\\n",
       "9344            1                 0          0.019508                0.0   \n",
       "3796            0                 0          0.056167                0.0   \n",
       "7462            1                 1          0.848738                0.0   \n",
       "1508            1                 1         -0.894953                0.0   \n",
       "4478            0                 1         -1.284516                0.0   \n",
       "\n",
       "      geography_Spain  gender_Male  \n",
       "9344              0.0          0.0  \n",
       "3796              0.0          1.0  \n",
       "7462              0.0          1.0  \n",
       "1508              0.0          1.0  \n",
       "4478              0.0          1.0  "
      ]
     },
     "execution_count": 22,
     "metadata": {},
     "output_type": "execute_result"
    }
   ],
   "source": [
    "# Выведем на экран первые 5 строк датафрейма features_train:\n",
    "features_train.head()"
   ]
  },
  {
   "cell_type": "markdown",
   "id": "640f006a",
   "metadata": {},
   "source": [
    "В ходе подготовки данных были проделаны следующие шаги:\n",
    "- было принято решение убрать столбцы, не привносящие в модели машинного обучения важной информации - **RowNumber**, **CustomerId** и **Surname**;\n",
    "- устранены пропуски в столбце **tenure**. В результате исходный датафрейм сократился на **9.09%**;\n",
    "- выявлен дисбаланс классов целевого признака - факт ухода клиента: количество клиентов, покинувших банк - **20.4%**, количество клиентов банка - **79.6%**;\n",
    "- датафрейм был разделён на три выборки в соотношении 3:1:1. В тренировочной выборке насчитывается 5454 объекта (60%), в валидационной - 1819 объектов (20%), в тестовой - 1818 объектов (20%);\n",
    "- применено прямое кодирование к категориальным признакам и масштабирование численных признаков."
   ]
  },
  {
   "cell_type": "markdown",
   "id": "115ea03d",
   "metadata": {},
   "source": [
    "<a id='step_2'></a>\n",
    "## Исследование задачи"
   ]
  },
  {
   "cell_type": "markdown",
   "id": "a4949141",
   "metadata": {},
   "source": [
    "Исследуем данные без учёта дисбаланса класса."
   ]
  },
  {
   "cell_type": "markdown",
   "id": "8f4d914e",
   "metadata": {},
   "source": [
    "На основе тренировочной выборки обучим три модели в следующем порядке:\n",
    "- **дерево решений (DecisionTreeClassifier)**,\n",
    "- **случайный лес (RandomForestClassifier)**,\n",
    "- **логистическую регрессию (LogisticRegression)**.\n",
    "\n",
    "При обучении моделей исследуем взаимосвязи различных гиперпараметров и выберем модель с наивысшим показателем **F1-меры** для валидационной выборки."
   ]
  },
  {
   "cell_type": "markdown",
   "id": "fa576d18",
   "metadata": {},
   "source": [
    "Начнём с дерева решений (DecisionTreeClassifier). Найдём наилучшую модель (с точки зрения **F1-меры**), отыскав самые оптимальные гиперпараметры среди представленных ниже при помощи цикла:\n",
    "- **максимальная глубина дерева (max_depth)** - рассмотрим деревья с глубиной от 1 до 10 с шагом 1;\n",
    "- **минимальное число объектов в узле дерева (min_samples_split)** - будем менять данный параметр от 2 до 15 с шагом 1;\n",
    "- **минимальное число объектов в листьях дерева (min_samples_leaf)** - будем менять данный параметр от 1 до 10 с шагом 1."
   ]
  },
  {
   "cell_type": "code",
   "execution_count": 23,
   "id": "9e4727da",
   "metadata": {},
   "outputs": [],
   "source": [
    "# Объявим функцию model_dtc с тремя параметрами:\n",
    "def model_dtc(features, target, weight=None):\n",
    "    \"\"\"\n",
    "    Функция model_dtc методом перебора находит наилучшее сочетание гиперпараметров для дерева решений.\n",
    "    \n",
    "    Параметры:\n",
    "    features - датафрейм с признаками тестовой выборки;\n",
    "    target - датафрейм с целевым признаком тестовой выборки;\n",
    "    weight - вес классов: 'balanced' или None (None - значение по умолчанию).\n",
    "    \"\"\"\n",
    "# Объявим переменную для сохранения наилучшей модели:\n",
    "    best_model = None\n",
    "# Объявим переменную для сохранения наилучшей максимальной глубины дерева: \n",
    "    best_depth = 0\n",
    "# Объявим переменную для сохранения наилучшего минимального числа объектов в узле дерева:     \n",
    "    best_split = 0\n",
    "# Объявим переменную для сохранения наилучшего минимального числа объектов в листьях дерева:      \n",
    "    best_leaf = 0\n",
    "# Объявим переменную для сохранения наибольшего значения F1-меры:    \n",
    "    best_result = 0\n",
    "# В цикле переберём диапазон значений максимальной глубины дерева:\n",
    "    for depth in range(1, 11):\n",
    "# Диапазон значений минимального числа объектов в узле дерева:        \n",
    "        for split in range(2, 16):\n",
    "# Диапазон значений минимального числа объектов в листьях дерева:  \n",
    "            for leaf in range(1, 11):\n",
    "# Рассматриваемая модель - дерево решений с заданными параметрами:\n",
    "                model = DecisionTreeClassifier(\n",
    "                    max_depth=depth,\n",
    "                    min_samples_split=split,\n",
    "                    min_samples_leaf=leaf,\n",
    "                    class_weight=weight,\n",
    "                    random_state=12345)\n",
    "# Обучим модель на тренировочной выборке:\n",
    "                model.fit(features, target)\n",
    "# Предскажем результаты на валидационной выборке:\n",
    "                predicted_valid = model.predict(features_valid)\n",
    "# Рассчитаем F1-меру валидационной выборки:\n",
    "                result = f1_score(target_valid, predicted_valid)\n",
    "# Если значение F1-меры модели с заданными в этой итерации гиперпараметрами\n",
    "# наибольшее среди всех предыдущих моделей:\n",
    "                if result > best_result:\n",
    "# Сохраним данную модель в перменной best_model:\n",
    "                    best_model = model\n",
    "# Сохраним значение максимальной глубины дерева наилучшей модели в переменной best_depth:\n",
    "                    best_depth = depth\n",
    "# Сохраним значение минимального числа объектов в узле дерева наилучшей модели в переменной best_split:    \n",
    "                    best_split = split\n",
    "# Сохраним значение минимального числа объектов в листьях дерева наилучшей модели в переменной best_leaf:       \n",
    "                    best_leaf = leaf\n",
    "# Сохраним значение F1-меры наилучшей модели в переменной best_result:   \n",
    "                    best_result = result\n",
    "# Выведем получившиеся значения на экран:                    \n",
    "    print(f\"\"\"Гиперпараметры наилучшей модели: \n",
    "                  max_depth={best_depth},\n",
    "                  min_samples_split={best_split}, \n",
    "                  min_samples_leaf={best_leaf}.\n",
    "                  \n",
    "              Значение F1-меры: {best_result}.\"\"\")\n",
    "# Вернём наилучшую модель   \n",
    "    return best_model"
   ]
  },
  {
   "cell_type": "code",
   "execution_count": 24,
   "id": "853f4a26",
   "metadata": {},
   "outputs": [
    {
     "name": "stdout",
     "output_type": "stream",
     "text": [
      "Гиперпараметры наилучшей модели: \n",
      "                  max_depth=7,\n",
      "                  min_samples_split=13, \n",
      "                  min_samples_leaf=6.\n",
      "                  \n",
      "              Значение F1-меры: 0.5886075949367088.\n",
      "CPU times: total: 20.6 s\n",
      "Wall time: 20.6 s\n"
     ]
    }
   ],
   "source": [
    "%%time\n",
    "# Отыщем наилучшие сочетания гиперпараметров и сохраним лучшую модель дерева решений в переменной model_dtc1:\n",
    "model_dtc1 = model_dtc(features_train, target_train)"
   ]
  },
  {
   "cell_type": "markdown",
   "id": "606c3693",
   "metadata": {},
   "source": [
    "Следующей обученной моделью будет случайный лес (RandomForestClassifier). Найдём наилучшую модель (с точки зрения **F1-меры**), отыскав самые оптимальные гиперпараметры среди представленных ниже при помощи цикла:\n",
    "- **максимальная глубина дерева (max_depth)** - рассмотрим деревья с глубиной от 1 до 10 с шагом 1;\n",
    "- **минимальное число объектов в узле дерева (min_samples_split)** - будем менять данный параметр от 2 до 15 с шагом 1;\n",
    "- **минимальное число объектов в листьях дерева (min_samples_leaf)** - будем менять данный параметр от 1 до 10 с шагом 2;\n",
    "- **количество деревьев решений в лесу (n_estimators)** - будем менять данный параметр от 10 до 50 с шагом 10."
   ]
  },
  {
   "cell_type": "code",
   "execution_count": 25,
   "id": "1f4f2cc7",
   "metadata": {},
   "outputs": [],
   "source": [
    "# Объявим функцию model_rfc с тремя параметрами:\n",
    "def model_rfc(features, target, weight=None):\n",
    "    \"\"\"\n",
    "    Функция model_rfc методом перебора находит наилучшее сочетание гиперпараметров для случайного леса.\n",
    "    \n",
    "    Параметры:\n",
    "    features - датафрейм с признаками тестовой выборки;\n",
    "    target - датафрейм с целевым признаком тестовой выборки;\n",
    "    weight - вес классов: 'balanced' или None (None - значение по умолчанию).\n",
    "    \"\"\"\n",
    "# Объявим переменную для сохранения наилучшей модели:\n",
    "    best_model = None\n",
    "# Объявим переменную для сохранения наилучшей максимальной глубины дерева: \n",
    "    best_depth = 0\n",
    "# Объявим переменную для сохранения наилучшего минимального числа объектов в узле дерева:     \n",
    "    best_split = 0\n",
    "# Объявим переменную для сохранения наилучшего минимального числа объектов в листьях дерева:      \n",
    "    best_leaf = 0\n",
    "# Объявим переменную для сохранения наилучшего количества деревьев решений в лесу:    \n",
    "    best_est = 0\n",
    "# Объявим переменную для сохранения наибольшего значения F1-меры:    \n",
    "    best_result = 0\n",
    "# В цикле переберём диапазон значений максимальной глубины дерева:\n",
    "    for depth in range(1, 11):\n",
    "# Диапазон значений минимального числа объектов в узле дерева:        \n",
    "        for split in range(2, 16):\n",
    "# Диапазон значений минимального числа объектов в листьях дерева:  \n",
    "            for leaf in range(1, 11):\n",
    "# Диапазон значений количества деревьев решений в лесу:          \n",
    "                for est in range(10, 51, 10):\n",
    "# Рассматриваемая модель - дерево решений с заданными параметрами:\n",
    "                    model = RandomForestClassifier(\n",
    "                        max_depth=depth,\n",
    "                        min_samples_split=split,\n",
    "                        min_samples_leaf=leaf,\n",
    "                        n_estimators=est,\n",
    "                        class_weight=weight,\n",
    "                        random_state=12345)\n",
    "# Обучим модель на тренировочной выборке:\n",
    "                    model.fit(features, target)\n",
    "# Предскажем результаты на валидационной выборке:\n",
    "                    predicted_valid = model.predict(features_valid)\n",
    "# Рассчитаем F1-меру валидационной выборки:\n",
    "                    result = f1_score(target_valid, predicted_valid)\n",
    "# Если значение F1-меры модели с заданными в этой итерации гиперпараметрами\n",
    "# наибольшее среди всех предыдущих моделей:\n",
    "                    if result > best_result:\n",
    "# Сохраним данную модель в перменной best_model:\n",
    "                        best_model = model\n",
    "# Сохраним значение максимальной глубины дерева наилучшей модели в переменной best_depth:\n",
    "                        best_depth = depth\n",
    "# Сохраним значение минимального числа объектов в узле дерева наилучшей модели в переменной best_split:    \n",
    "                        best_split = split\n",
    "# Сохраним значение минимального числа объектов в листьях дерева наилучшей модели в переменной best_leaf:       \n",
    "                        best_leaf = leaf\n",
    "# Сохраним значение количества деревьев решений в лесу наилучшей модели в переменной best_est:     \n",
    "                        best_est = est\n",
    "# Сохраним значение F1-меры наилучшей модели в переменной best_result:   \n",
    "                        best_result = result\n",
    "# Выведем получившиеся значения на экран:                    \n",
    "    print(f\"\"\"Гиперпараметры наилучшей модели: \n",
    "                  max_depth={best_depth},\n",
    "                  min_samples_split={best_split}, \n",
    "                  min_samples_leaf={best_leaf},\n",
    "                  n_estimators={best_est}.\n",
    "                  \n",
    "              Значение F1-меры: {best_result}.\"\"\")\n",
    "# Вернём наилучшую модель   \n",
    "    return best_model"
   ]
  },
  {
   "cell_type": "code",
   "execution_count": 26,
   "id": "2d0af550",
   "metadata": {},
   "outputs": [
    {
     "name": "stdout",
     "output_type": "stream",
     "text": [
      "Гиперпараметры наилучшей модели: \n",
      "                  max_depth=10,\n",
      "                  min_samples_split=13, \n",
      "                  min_samples_leaf=3,\n",
      "                  n_estimators=10.\n",
      "                  \n",
      "              Значение F1-меры: 0.603648424543947.\n",
      "CPU times: total: 13min 23s\n",
      "Wall time: 13min 24s\n"
     ]
    }
   ],
   "source": [
    "%%time\n",
    "# Отыщем наилучшие сочетания гиперпараметров и сохраним лучшую модель случайного леса в переменной model_rfc1:\n",
    "model_rfc1 = model_rfc(features_train, target_train)"
   ]
  },
  {
   "cell_type": "markdown",
   "id": "14d5fc9f",
   "metadata": {},
   "source": [
    "Третьей обученной моделью является логистическая регрессия (LogisicRegression). Найдём наилучшую модель (с точки зрения **F1-меры**), отыскав самые оптимальные гиперпараметры среди представленных ниже при помощи цикла:\n",
    "- **количество итераций обучения (max_iter)** - будем менять данный параметр от 100 до 1000 с шагом 100;\n",
    "- **алгоритм для постороения модели (solver)** - будем использовать алгоритм 'lbfgs'."
   ]
  },
  {
   "cell_type": "code",
   "execution_count": 27,
   "id": "29bc8a70",
   "metadata": {},
   "outputs": [],
   "source": [
    "# Объявим функцию model_lr с тремя параметрами:\n",
    "def model_lr(features, target, weight=None):\n",
    "    \"\"\"\n",
    "    Функция model_rfc методом перебора находит наилучшее сочетание гиперпараметров для логистической регрессии.\n",
    "    \n",
    "    Параметры:\n",
    "    features - датафрейм с признаками тестовой выборки;\n",
    "    target - датафрейм с целевым признаком тестовой выборки;\n",
    "    weight - вес классов: 'balanced' или None (None - значение по умолчанию).\n",
    "    \"\"\"\n",
    "# Объявим переменную для сохранения наилучшей модели:\n",
    "    best_model = None\n",
    "# Объявим переменную для сохранения наилучшей количества итераций обучения модели: \n",
    "    best_iter = 0\n",
    "# Объявим переменную для сохранения наибольшего значения F1-меры:    \n",
    "    best_result = 0\n",
    "# В цикле переберём диапазон значений количества итераций обучения модели:\n",
    "    for iterations in range(100, 1001, 100):\n",
    "        model = LogisticRegression(\n",
    "            max_iter=iterations,\n",
    "            class_weight=weight,\n",
    "            random_state=12345)\n",
    "# Обучим модель на тренировочной выборке:\n",
    "        model.fit(features, target)\n",
    "# Предскажем результаты на валидационной выборке:\n",
    "        predicted_valid = model.predict(features_valid)\n",
    "# Рассчитаем F1-меру валидационной выборки:\n",
    "        result = f1_score(target_valid, predicted_valid)\n",
    "# Если значение F1-меры модели с заданными в этой итерации гиперпараметрами\n",
    "# наибольшее среди всех предыдущих моделей:\n",
    "        if result > best_result:\n",
    "# Сохраним данную модель в перменной best_model:\n",
    "            best_model = model\n",
    "# Сохраним значение количества итераций обучения наилучшей модели в переменной best_iter:\n",
    "            best_iter = iterations\n",
    "# Сохраним значение F1-меры наилучшей модели в переменной best_result:   \n",
    "            best_result = result\n",
    "# Выведем получившиеся значения на экран:                    \n",
    "    print(f\"\"\"Гиперпараметры наилучшей модели: \n",
    "                  max_iter={best_iter}.\n",
    "                  \n",
    "              Значение F1-меры: {best_result}.\"\"\")\n",
    "# Вернём наилучшую модель   \n",
    "    return best_model"
   ]
  },
  {
   "cell_type": "code",
   "execution_count": 28,
   "id": "01dc5bb9",
   "metadata": {},
   "outputs": [
    {
     "name": "stdout",
     "output_type": "stream",
     "text": [
      "Гиперпараметры наилучшей модели: \n",
      "                  max_iter=100.\n",
      "                  \n",
      "              Значение F1-меры: 0.30400000000000005.\n",
      "CPU times: total: 172 ms\n",
      "Wall time: 239 ms\n"
     ]
    }
   ],
   "source": [
    "%%time\n",
    "# Отыщем наилучшие сочетания гиперпараметров и сохраним лучшую модель логистической регрессии в переменной model_lr1:\n",
    "model_lr1 = model_lr(features_train, target_train)"
   ]
  },
  {
   "cell_type": "markdown",
   "id": "989dc870",
   "metadata": {},
   "source": [
    "Обучив три разные модели машинного обучения мы методом перебора подобрали наилучшие гиперпараметры для каждой модели в выбранных нами диапазонах. Отыскав таким образом модели с наивысшим значением **F1-меры**, рассчитанным на валидационной выборке. Модели расположились в следующем порядке:\n",
    "\n",
    "- случайный лес (RandomForestClassifier) - **F1-мера ~ 0.604**;\n",
    "- дерево решений (DecisionTreeClassifier) - **F1-мера ~ 0.589**;\n",
    "- логистическая регрессия (LogisticRegression) - **F1-мера ~ 0.304**.\n",
    "\n",
    "Рассмотрим, как случайный лес с подобранными гиперпараметрами поведёт себя с данными тестовой выборки.\n",
    "\n",
    "Гипрепараметры наилучшей модели случайного леса:\n",
    "- максимальная глубина дерева (max_depth) - **10**;\n",
    "- минимальное число объектов в узле дерева (min_samples_split) - **13**;\n",
    "- минимальное число объектов в листьях дерева (min_samples_leaf) - **3**;\n",
    "- количество деревьев решений в лесу (n_estimators) - **10**."
   ]
  },
  {
   "cell_type": "code",
   "execution_count": 29,
   "id": "577c45d7",
   "metadata": {},
   "outputs": [
    {
     "name": "stdout",
     "output_type": "stream",
     "text": [
      "Значение F1-меры: 0.5647482014388489\n"
     ]
    }
   ],
   "source": [
    "# Предскажем результаты на модели случайного леса на тестовой выборке:\n",
    "predicted_rfc1 = model_rfc1.predict(features_test)\n",
    "# Рассчитаем F1-меру для тестовой выборки:\n",
    "result_rfc1 = f1_score(target_test, predicted_rfc1)\n",
    "# Выведем полученное значение F1-меры на экран:\n",
    "print(f'Значение F1-меры: {result_rfc1}')"
   ]
  },
  {
   "cell_type": "markdown",
   "id": "1c9f6858",
   "metadata": {},
   "source": [
    "На тестовой выборке без учёта дисбаланса классов удалось достичь **значения F1-меры** равное **~0.565**.\n",
    "\n",
    "Построим ROC-кривую для модели model_rfc1 и сравним её со случайной моделью, рассчитав значение AUC-ROC."
   ]
  },
  {
   "cell_type": "code",
   "execution_count": 30,
   "id": "560edf5e",
   "metadata": {},
   "outputs": [],
   "source": [
    "# Объявим функцию roc_auc с двумя параметрами:\n",
    "def roc_auc(model, title_name):\n",
    "    \"\"\"\n",
    "    Функция строит ROC-кривую для заданной модели и рассчитывает значение ROC-AUC.\n",
    "    \n",
    "    Параметры:\n",
    "    model - модель машинного обучения;\n",
    "    title_name(str) - заголовок графика.\n",
    "    \"\"\"\n",
    "# Найдём значения вероятностей классов для заданной модели для тестовой выборки:\n",
    "    probabilities_test = model.predict_proba(features_test)\n",
    "# Значения вероятностей класса \"1\" запишем в переменной 'probabilities_one':\n",
    "    probabilities_one_test = probabilities_test[:, 1]\n",
    "# Получим три списка значений - FPR, TPR и значения порогов:\n",
    "    fpr, tpr, thresholds = roc_curve(target_test, probabilities_one_test)\n",
    "# Зададим область графика:\n",
    "    plt.figure(figsize=(6, 6))\n",
    "# Построим график по значениям FPR (ось асбцисс) и TPR (ось ординат):\n",
    "    plt.plot(fpr, tpr)\n",
    "# Построим график ROC-кривой случайной модели:\n",
    "    plt.plot([0, 1], [0, 1], linestyle='--')\n",
    "# Установим границы по оси абсцисс от 0 до 1:\n",
    "    plt.xlim([0, 1])\n",
    "# Установим границы по оси ординат от 0 до 1:\n",
    "    plt.ylim([0, 1])\n",
    "# Добавим название оси абсцисс:\n",
    "    plt.xlabel('False Positive Rate')\n",
    "# Добавим название оси ординат:\n",
    "    plt.ylabel('True Positive Rate')\n",
    "# Добавим заголовок графика:\n",
    "    plt.title(title_name)\n",
    "# Выведем график на экран:\n",
    "    plt.show()\n",
    "# Рассчитаем значение ROC-AUC для заданной модели:\n",
    "    auc_roc = roc_auc_score(target_test, probabilities_one_test)\n",
    "# Выведем полученное значение на экран:\n",
    "    print(f'Значение ROC-AUC: {auc_roc}')"
   ]
  },
  {
   "cell_type": "code",
   "execution_count": 31,
   "id": "c389bc80",
   "metadata": {},
   "outputs": [
    {
     "data": {
      "image/png": "[encoded data removed]",
      "text/plain": [
       "<Figure size 600x600 with 1 Axes>"
      ]
     },
     "metadata": {},
     "output_type": "display_data"
    },
    {
     "name": "stdout",
     "output_type": "stream",
     "text": [
      "Значение ROC-AUC: 0.846048075952708\n"
     ]
    }
   ],
   "source": [
    "# Построим ROC-кривую и рассчитаем ROC-AUC для first_model:\n",
    "roc_auc(model_rfc1, 'ROC-кривая наилучшей модели без учёта дисбаланса классов')"
   ]
  },
  {
   "cell_type": "markdown",
   "id": "e3f3cd54",
   "metadata": {},
   "source": [
    "Без учёта дисбаланса классов нам удалось достичь **значения F1-меры около 0.565** на тестовой выборке для отобранной модели (случайный лес) со следующимим гиперпараметрами:\n",
    "- максимальная глубина дерева (max_depth) - **10**;\n",
    "- минимальное число объектов в узле дерева (min_samples_split) - **13**;\n",
    "- минимальное число объектов в листьях дерева (min_samples_leaf) - **3**;\n",
    "- количество деревьев решений в лесу (n_estimators) - **10**.\n",
    "\n",
    "Данное значение **F1-меры** не является удовлетворительным для решения поставленной задачи.\n",
    "\n",
    "**Значение метрики ROC-AUC равно примерно 0.846** - вероятность того, что наша модель сможет различить положительные и отрицательных значения класса довольно велика.\n",
    "\n",
    "Далее рассмотрим, как поведут себя модели с учётом дисбаланса классов."
   ]
  },
  {
   "cell_type": "markdown",
   "id": "122dbcbf",
   "metadata": {},
   "source": [
    "<a id='step_3'></a>\n",
    "## Борьба с дисбалансом"
   ]
  },
  {
   "cell_type": "markdown",
   "id": "622945fc",
   "metadata": {},
   "source": [
    "Для борьбы с дисбалансом рассмотрим три способа:\n",
    "- **Взвешивание классов**;\n",
    "- **Увеличение выборки**;\n",
    "- **Уменьшение выборки**;\n",
    "\n",
    "В каждом способе обучим три модели в следующем порядке:\n",
    "- **дерево решений (DecisionTreeClassifier)**,\n",
    "- **случайный лес (RandomForestClassifier)**,\n",
    "- **логистическую регрессию (LogisticRegression)**.\n",
    "\n",
    "Обучив модели каждым из предложенных способов выберем модель с наивысшим показателем **F1-меры** для валидационной выборки."
   ]
  },
  {
   "cell_type": "markdown",
   "id": "0d989526",
   "metadata": {},
   "source": [
    "<a id='step_3_1'></a>\n",
    "### Взвешивание классов"
   ]
  },
  {
   "cell_type": "markdown",
   "id": "fb9ecbbd",
   "metadata": {},
   "source": [
    "Сбалансируем веса классов при помощи аргумента **class_weight**."
   ]
  },
  {
   "cell_type": "markdown",
   "id": "097a0957",
   "metadata": {},
   "source": [
    "Диапазон гиперпараметров для дерева решений (DecisionTreeClassifier):\n",
    "- **максимальная глубина дерева (max_depth)** - рассмотрим деревья с глубиной от 1 до 10 с шагом 1;\n",
    "- **минимальное число объектов в узле дерева (min_samples_split)** - будем менять данный параметр от 2 до 15 с шагом 1;\n",
    "- **минимальное число объектов в листьях дерева (min_samples_leaf)** - будем менять данный параметр от 1 до 10 с шагом 1\n",
    "- **вес классов (class_weight)** - 'balanced'."
   ]
  },
  {
   "cell_type": "code",
   "execution_count": 32,
   "id": "276f4c4e",
   "metadata": {},
   "outputs": [
    {
     "name": "stdout",
     "output_type": "stream",
     "text": [
      "Гиперпараметры наилучшей модели: \n",
      "                  max_depth=5,\n",
      "                  min_samples_split=2, \n",
      "                  min_samples_leaf=9.\n",
      "                  \n",
      "              Значение F1-меры: 0.5762711864406779.\n",
      "CPU times: total: 22.6 s\n",
      "Wall time: 22.6 s\n"
     ]
    }
   ],
   "source": [
    "%%time\n",
    "# Отыщем наилучшие сочетания гиперпараметров и сохраним лучшую модель дерева решений в переменной model_dtc2:\n",
    "model_dtc2 = model_dtc(features_train, target_train, weight='balanced')"
   ]
  },
  {
   "cell_type": "markdown",
   "id": "9986dfb2",
   "metadata": {},
   "source": [
    "Диапазон гиперпараметров для случайного леса (RandomForestClassifier):\n",
    "- **максимальная глубина дерева (max_depth)** - рассмотрим деревья с глубиной от 1 до 10 с шагом 1;\n",
    "- **минимальное число объектов в узле дерева (min_samples_split)** - будем менять данный параметр от 2 до 15 с шагом 1;\n",
    "- **минимальное число объектов в листьях дерева (min_samples_leaf)** - будем менять данный параметр от 1 до 10 с шагом 2;\n",
    "- **количество деревьев решений в лесу (n_estimators)** - будем менять данный параметр от 10 до 50 с шагом 10;\n",
    "- **вес классов (class_weight)** - 'balanced'."
   ]
  },
  {
   "cell_type": "code",
   "execution_count": 33,
   "id": "9bc41856",
   "metadata": {},
   "outputs": [
    {
     "name": "stdout",
     "output_type": "stream",
     "text": [
      "Гиперпараметры наилучшей модели: \n",
      "                  max_depth=9,\n",
      "                  min_samples_split=9, \n",
      "                  min_samples_leaf=1,\n",
      "                  n_estimators=30.\n",
      "                  \n",
      "              Значение F1-меры: 0.6601226993865031.\n",
      "CPU times: total: 13min 28s\n",
      "Wall time: 13min 28s\n"
     ]
    }
   ],
   "source": [
    "%%time\n",
    "# Отыщем наилучшие сочетания гиперпараметров и сохраним лучшую модель случайного леса в переменной model_rfc2:\n",
    "model_rfc2 = model_rfc(features_train, target_train, weight='balanced')"
   ]
  },
  {
   "cell_type": "markdown",
   "id": "2d2fda90",
   "metadata": {},
   "source": [
    "Диапазон гиперпараметров для логистической регрессии (LogisticRegression):\n",
    "- **количество итераций обучения (max_iter)** - будем менять данный параметр от 100 до 1000 с шагом 100;\n",
    "- **алгоритм для постороения модели (solver)** - будем использовать алгоритм 'lbfgs';\n",
    "- **вес классов (class_weight)** - 'balanced'."
   ]
  },
  {
   "cell_type": "code",
   "execution_count": 34,
   "id": "1cd03571",
   "metadata": {},
   "outputs": [
    {
     "name": "stdout",
     "output_type": "stream",
     "text": [
      "Гиперпараметры наилучшей модели: \n",
      "                  max_iter=100.\n",
      "                  \n",
      "              Значение F1-меры: 0.509731232622799.\n",
      "CPU times: total: 172 ms\n",
      "Wall time: 177 ms\n"
     ]
    }
   ],
   "source": [
    "%%time\n",
    "# Отыщем наилучшие сочетания гиперпараметров и сохраним лучшую модель логистической регрессии в переменной model_lr2:\n",
    "model_lr2 = model_lr(features_train, target_train, weight='balanced')"
   ]
  },
  {
   "cell_type": "markdown",
   "id": "e677ce7b",
   "metadata": {},
   "source": [
    "Обучив три разные модели машинного обучения мы методом перебора подобрали наилучшие гиперпараметры для каждой модели в выбранных нами диапазонах. Отыскав таким образом модели с наивысшим значением **F1-меры** с учётом дисбаланса классов (сбалансированные веса классов), рассчитанным на валидационной выборке. Модели расположились в следующем порядке:\n",
    "\n",
    "- случайный лес (RandomForestClassifier) - **F1-мера ~ 0.660** (при дисбалансе классов - ~0.604);\n",
    "- дерево решений (DecisionTreeClassifier) - **F1-мера ~ 0.576** (при дисбалансе классов - ~0.589);\n",
    "- логистическая регрессия (LogisticRegression) - **F1-мера ~ 0.510** (при дисбалансе классов - ~0.304)."
   ]
  },
  {
   "cell_type": "markdown",
   "id": "464c2538",
   "metadata": {},
   "source": [
    "<a id='step_3_2'></a>\n",
    "### Увеличение выборки"
   ]
  },
  {
   "cell_type": "markdown",
   "id": "6827bdd1",
   "metadata": {},
   "source": [
    "С помощью **SMOTE** увеличим количество объектов недостающего положительного класса (клиентов, решивших покинуть банк - **20.4%**) до количества объектов отрицательного класса (**79.6%** являются клиентами банка по настоящее время)."
   ]
  },
  {
   "cell_type": "code",
   "execution_count": 35,
   "id": "57fe2dfd",
   "metadata": {},
   "outputs": [],
   "source": [
    "# Создадим объект стурктуры SMOTE():\n",
    "oversample = SMOTE(random_state=12345)\n",
    "# Приравняем количество объектов положительного класса («1») к количеству объектов отрицательного класса («0»):\n",
    "features_upsampled, target_upsampled = oversample.fit_resample(features_train, target_train)"
   ]
  },
  {
   "cell_type": "code",
   "execution_count": 36,
   "id": "26b13fa6",
   "metadata": {},
   "outputs": [
    {
     "name": "stdout",
     "output_type": "stream",
     "text": [
      "Размеры первоначальной выборки с ответом «0»: (4328, 11)\n",
      "Размеры первоначальной выборки с ответом «1»: (1126, 11)\n",
      "Размеры обновлённой выборки с ответом «0»: (4328, 11)\n",
      "Размеры обновлённой выборки с ответом «1»: (4328, 11)\n",
      "Первоначальный размер тренировочной выборки: (5454, 11)\n",
      "Размер обновлённой тренировочной выборки: (8656, 11)\n"
     ]
    }
   ],
   "source": [
    "# Разобъём тренировочную выборку на группы:\n",
    "# Признаки объектов с ответом «0»:\n",
    "features_zeros = features_train[target_train == 0]\n",
    "# Признаки объектов с ответом «1»:\n",
    "features_ones = features_train[target_train == 1]\n",
    "\n",
    "# Разобъём обновлённую тренировочную выборку на группы:\n",
    "# Целевой признак объектов, у которых ответы только «0»:\n",
    "features_upsampled_zeros = features_upsampled[target_upsampled == 0]\n",
    "# Целевой признак объектов, у которых ответы только «1»:\n",
    "features_upsampled_ones = features_upsampled[target_upsampled == 1]\n",
    "\n",
    "# Выведем на экран размеры первоначальной выборки с ответом «0»:    \n",
    "print(f'Размеры первоначальной выборки с ответом «0»: {features_zeros.shape}')\n",
    "# Выведем на экран размеры первоначальной выборки с ответом «1»:\n",
    "print(f'Размеры первоначальной выборки с ответом «1»: {features_ones.shape}')\n",
    "# Выведем на экран размеры обновлённой выборки с ответом «0»:    \n",
    "print(f'Размеры обновлённой выборки с ответом «0»: {features_upsampled_zeros.shape}')\n",
    "# Выведем на экран размеры обновлённой выборки с ответом «1»:\n",
    "print(f'Размеры обновлённой выборки с ответом «1»: {features_upsampled_ones.shape}')\n",
    "# Выведем на экран первоначальный размер тренировочной выборки:\n",
    "print(f'Первоначальный размер тренировочной выборки: {features_train.shape}')\n",
    "# Выведем на экран размер обновлённой тренировочной выборки:\n",
    "print(f'Размер обновлённой тренировочной выборки: {features_upsampled.shape}')"
   ]
  },
  {
   "cell_type": "markdown",
   "id": "131d11bb",
   "metadata": {},
   "source": [
    "Диапазон гиперпараметров для дерева решений (DecisionTreeClassifier):\n",
    "- **максимальная глубина дерева (max_depth)** - рассмотрим деревья с глубиной от 1 до 10 с шагом 1;\n",
    "- **минимальное число объектов в узле дерева (min_samples_split)** - будем менять данный параметр от 2 до 15 с шагом 1;\n",
    "- **минимальное число объектов в листьях дерева (min_samples_leaf)** - будем менять данный параметр от 1 до 10 с шагом 1."
   ]
  },
  {
   "cell_type": "code",
   "execution_count": 37,
   "id": "c2e90c93",
   "metadata": {},
   "outputs": [
    {
     "name": "stdout",
     "output_type": "stream",
     "text": [
      "Гиперпараметры наилучшей модели: \n",
      "                  max_depth=9,\n",
      "                  min_samples_split=15, \n",
      "                  min_samples_leaf=3.\n",
      "                  \n",
      "              Значение F1-меры: 0.586483390607102.\n",
      "CPU times: total: 32.7 s\n",
      "Wall time: 32.7 s\n"
     ]
    }
   ],
   "source": [
    "%%time\n",
    "# Отыщем наилучшие сочетания гиперпараметров и сохраним лучшую модель дерева решений в переменной model_dtc3:\n",
    "model_dtc3 = model_dtc(features_upsampled, target_upsampled)"
   ]
  },
  {
   "cell_type": "markdown",
   "id": "6b0dc789",
   "metadata": {},
   "source": [
    "Диапазон гиперпараметров для случайного леса (RandomForestClassifier):\n",
    "- **максимальная глубина дерева (max_depth)** - рассмотрим деревья с глубиной от 1 до 10 с шагом 1;\n",
    "- **минимальное число объектов в узле дерева (min_samples_split)** - будем менять данный параметр от 2 до 15 с шагом 1;\n",
    "- **минимальное число объектов в листьях дерева (min_samples_leaf)** - будем менять данный параметр от 1 до 10 с шагом 2;\n",
    "- **количество деревьев решений в лесу (n_estimators)** - будем менять данный параметр от 10 до 50 с шагом 10."
   ]
  },
  {
   "cell_type": "code",
   "execution_count": 38,
   "id": "e13f527d",
   "metadata": {},
   "outputs": [
    {
     "name": "stdout",
     "output_type": "stream",
     "text": [
      "Гиперпараметры наилучшей модели: \n",
      "                  max_depth=10,\n",
      "                  min_samples_split=2, \n",
      "                  min_samples_leaf=1,\n",
      "                  n_estimators=50.\n",
      "                  \n",
      "              Значение F1-меры: 0.6534653465346535.\n",
      "CPU times: total: 19min 58s\n",
      "Wall time: 19min 58s\n"
     ]
    }
   ],
   "source": [
    "%%time\n",
    "# Отыщем наилучшие сочетания гиперпараметров и сохраним лучшую модель случайного леса в переменной model_rfc3:\n",
    "model_rfc3 = model_rfc(features_upsampled, target_upsampled)"
   ]
  },
  {
   "cell_type": "markdown",
   "id": "b20c5068",
   "metadata": {},
   "source": [
    "Диапазон гиперпараметров для логистической регрессии (LogisticRegression):\n",
    "- **количество итераций обучения (max_iter)** - будем менять данный параметр от 100 до 1000 с шагом 100;\n",
    "- **алгоритм для постороения модели (solver)** - будем использовать алгоритм 'lbfgs'."
   ]
  },
  {
   "cell_type": "code",
   "execution_count": 39,
   "id": "07c1dbfe",
   "metadata": {},
   "outputs": [
    {
     "name": "stdout",
     "output_type": "stream",
     "text": [
      "Гиперпараметры наилучшей модели: \n",
      "                  max_iter=100.\n",
      "                  \n",
      "              Значение F1-меры: 0.5.\n",
      "CPU times: total: 172 ms\n",
      "Wall time: 182 ms\n"
     ]
    }
   ],
   "source": [
    "%%time\n",
    "# Отыщем наилучшие сочетания гиперпараметров и сохраним лучшую модель логистической регрессии в переменной model_lr3:\n",
    "model_lr3 = model_lr(features_upsampled, target_upsampled)"
   ]
  },
  {
   "cell_type": "markdown",
   "id": "e0e2b831",
   "metadata": {},
   "source": [
    "Обучив три разные модели машинного обучения мы методом перебора подобрали наилучшие гиперпараметры для каждой модели в выбранных нами диапазонах. Отыскав таким образом модели с наивысшим значением **F1-меры** с учётом дисбаланса классов (увеличение количества объектов недостающего класса), рассчитанным на валидационной выборке. Модели расположились в следующем порядке:\n",
    "\n",
    "- случайный лес (RandomForestClassifier) - **F1-мера ~ 0.653**:\n",
    "    - при дисбалансе классов - ~0.604,\n",
    "    - при взешивании классов - ~0.660;\n",
    "- дерево решений (DecisionTreeClassifier) - **F1-мера ~ 0.586**:\n",
    "    - при дисбалансе классов - ~0.589,\n",
    "    - при взешивании классов - ~0.576;\n",
    "- логистическая регрессия (LogisticRegression) - **F1-мера ~ 0.500**:\n",
    "    - при дисбалансе классов - 0.304,\n",
    "    - при взешивании классов - ~0.510."
   ]
  },
  {
   "cell_type": "markdown",
   "id": "4d28cd19",
   "metadata": {},
   "source": [
    "<a id='step_3_3'></a>\n",
    "### Уменьшение выборки"
   ]
  },
  {
   "cell_type": "markdown",
   "id": "e3d75829",
   "metadata": {},
   "source": [
    "С помощью **RandomUnderSampler** уменьшим количество объектов преобладающего отрицательного класса (**79.6%** являются клиентами банка по настоящее время) до количества объектов положительного класса (клиентов, решивших покинуть банк - **20.4%**)."
   ]
  },
  {
   "cell_type": "code",
   "execution_count": 40,
   "id": "bc99c2cf",
   "metadata": {},
   "outputs": [],
   "source": [
    "# Создадим объект стурктуры RandomUnderSampler():\n",
    "undersample = RandomUnderSampler(random_state=12345)\n",
    "# Приравняем количество объектов отрицательного класса («0») к количеству объектов положительного класса («1»):\n",
    "features_downsampled, target_downsampled = undersample.fit_resample(features_train, target_train)"
   ]
  },
  {
   "cell_type": "code",
   "execution_count": 41,
   "id": "17b7aa31",
   "metadata": {},
   "outputs": [
    {
     "name": "stdout",
     "output_type": "stream",
     "text": [
      "Размеры первоначальной выборки с ответом «0»: (4328, 11)\n",
      "Размеры первоначальной выборки с ответом «1»: (1126, 11)\n",
      "Размеры обновлённой выборки с ответом «0»: (1126, 11)\n",
      "Размеры обновлённой выборки с ответом «1»: (1126, 11)\n",
      "Первоначальный размер тренировочной выборки: (5454, 11)\n",
      "Размер обновлённой тренировочной выборки: (2252, 11)\n"
     ]
    }
   ],
   "source": [
    "# Разобъём обновлённую тренировочную выборку на группы:\n",
    "# Целевой признак объектов, у которых ответы только «0»:\n",
    "features_downsampled_zeros = features_downsampled[target_downsampled == 0]\n",
    "# Целевой признак объектов, у которых ответы только «1»:\n",
    "features_downsampled_ones = features_downsampled[target_downsampled == 1]\n",
    "\n",
    "# Выведем на экран размеры первоначальной выборки с ответом «0»:    \n",
    "print(f'Размеры первоначальной выборки с ответом «0»: {features_zeros.shape}')\n",
    "# Выведем на экран размеры первоначальной выборки с ответом «1»:\n",
    "print(f'Размеры первоначальной выборки с ответом «1»: {features_ones.shape}')\n",
    "# Выведем на экран размеры обновлённой выборки с ответом «0»:    \n",
    "print(f'Размеры обновлённой выборки с ответом «0»: {features_downsampled_zeros.shape}')\n",
    "# Выведем на экран размеры обновлённой выборки с ответом «1»:\n",
    "print(f'Размеры обновлённой выборки с ответом «1»: {features_downsampled_ones.shape}')\n",
    "# Выведем на экран первоначальный размер тренировочной выборки:\n",
    "print(f'Первоначальный размер тренировочной выборки: {features_train.shape}')\n",
    "# Выведем на экран размер обновлённой тренировочной выборки:\n",
    "print(f'Размер обновлённой тренировочной выборки: {features_downsampled.shape}')"
   ]
  },
  {
   "cell_type": "markdown",
   "id": "d2a56922",
   "metadata": {},
   "source": [
    "Диапазон гиперпараметров для дерева решений (DecisionTreeClassifier):\n",
    "- **максимальная глубина дерева (max_depth)** - рассмотрим деревья с глубиной от 1 до 10 с шагом 1;\n",
    "- **минимальное число объектов в узле дерева (min_samples_split)** - будем менять данный параметр от 2 до 15 с шагом 1;\n",
    "- **минимальное число объектов в листьях дерева (min_samples_leaf)** - будем менять данный параметр от 1 до 10 с шагом 1."
   ]
  },
  {
   "cell_type": "code",
   "execution_count": 42,
   "id": "9cd9a788",
   "metadata": {},
   "outputs": [
    {
     "name": "stdout",
     "output_type": "stream",
     "text": [
      "Гиперпараметры наилучшей модели: \n",
      "                  max_depth=8,\n",
      "                  min_samples_split=2, \n",
      "                  min_samples_leaf=9.\n",
      "                  \n",
      "              Значение F1-меры: 0.591691995947315.\n",
      "CPU times: total: 11.9 s\n",
      "Wall time: 11.9 s\n"
     ]
    }
   ],
   "source": [
    "%%time\n",
    "# Отыщем наилучшие сочетания гиперпараметров и сохраним лучшую модель дерева решений в переменной model_dtc4:\n",
    "model_dtc4 = model_dtc(features_downsampled, target_downsampled)"
   ]
  },
  {
   "cell_type": "markdown",
   "id": "f70c75cf",
   "metadata": {},
   "source": [
    "Диапазон гиперпараметров для случайного леса (RandomForestClassifier):\n",
    "- **максимальная глубина дерева (max_depth)** - рассмотрим деревья с глубиной от 1 до 10 с шагом 1;\n",
    "- **минимальное число объектов в узле дерева (min_samples_split)** - будем менять данный параметр от 2 до 15 с шагом 1;\n",
    "- **минимальное число объектов в листьях дерева (min_samples_leaf)** - будем менять данный параметр от 1 до 10 с шагом 2;\n",
    "- **количество деревьев решений в лесу (n_estimators)** - будем менять данный параметр от 10 до 50 с шагом 10."
   ]
  },
  {
   "cell_type": "code",
   "execution_count": 43,
   "id": "62b371ff",
   "metadata": {},
   "outputs": [
    {
     "name": "stdout",
     "output_type": "stream",
     "text": [
      "Гиперпараметры наилучшей модели: \n",
      "                  max_depth=10,\n",
      "                  min_samples_split=11, \n",
      "                  min_samples_leaf=3,\n",
      "                  n_estimators=30.\n",
      "                  \n",
      "              Значение F1-меры: 0.6092184368737474.\n",
      "CPU times: total: 8min 31s\n",
      "Wall time: 8min 31s\n"
     ]
    }
   ],
   "source": [
    "%%time\n",
    "# Отыщем наилучшие сочетания гиперпараметров и сохраним лучшую модель случайного леса в переменной model_rfc4:\n",
    "model_rfc4 = model_rfc(features_downsampled, target_downsampled)"
   ]
  },
  {
   "cell_type": "markdown",
   "id": "8af390d1",
   "metadata": {},
   "source": [
    "Диапазон гиперпараметров для логистической регрессии (LogisticRegression):\n",
    "- **количество итераций обучения (max_iter)** - будем менять данный параметр от 100 до 1000 с шагом 100;\n",
    "- **алгоритм для постороения модели (solver)** - будем использовать алгоритм 'lbfgs'."
   ]
  },
  {
   "cell_type": "code",
   "execution_count": 44,
   "id": "5dc6917b",
   "metadata": {},
   "outputs": [
    {
     "name": "stdout",
     "output_type": "stream",
     "text": [
      "Гиперпараметры наилучшей модели: \n",
      "                  max_iter=100.\n",
      "                  \n",
      "              Значение F1-меры: 0.502283105022831.\n",
      "CPU times: total: 141 ms\n",
      "Wall time: 141 ms\n"
     ]
    }
   ],
   "source": [
    "%%time\n",
    "# Отыщем наилучшие сочетания гиперпараметров и сохраним лучшую модель логистической регрессии в переменной model_lr4:\n",
    "model_lr4 = model_lr(features_downsampled, target_downsampled)"
   ]
  },
  {
   "cell_type": "markdown",
   "id": "59298c3a",
   "metadata": {},
   "source": [
    "Обучив три разные модели машинного обучения мы методом перебора подобрали наилучшие гиперпараметры для каждой модели в выбранных нами диапазонах. Отыскав таким образом модели с наивысшим значением **F1-меры** с учётом дисбаланса классов (уменьшение количества объектов преобладающего класса), рассчитанным на валидационной выборке. Модели расположились в следующем порядке:\n",
    "\n",
    "- случайный лес (RandomForestClassifier) - **F1-мера ~ 0.610**:\n",
    "    - при дисбалансе классов - ~0.604,\n",
    "    - при взешивании классов - ~0.660,\n",
    "    - при увеличении выборки - ~0.653;\n",
    "- дерево решений (DecisionTreeClassifier) - **F1-мера ~ 0.592**:\n",
    "    - при дисбалансе классов - ~0.589,\n",
    "    - при взешивании классов - ~0.576,\n",
    "    - при увеличении выборки - ~0.586;\n",
    "- логистическая регрессия (LogisticRegression) - **F1-мера ~ 0.502**:\n",
    "    - при дисбалансе классов - 0.304,\n",
    "    - при взешивании классов - ~0.510,\n",
    "    - при увеличении выборки - ~0.500."
   ]
  },
  {
   "cell_type": "markdown",
   "id": "2c7e6eaf",
   "metadata": {},
   "source": [
    "Наилучшие результаты показали следующие модели:\n",
    "- случайный лес при взешивании классов со **значением F1-меры ~0.660**;\n",
    "- дерево решений при уменьшении выборки со **значением F1-меры ~0.592**;\n",
    "- логистическая регрессия при уменьшении выборки со **значением F1-меры ~0.502**.\n",
    "\n",
    "С учётом дисбаланса классов моделью с наивысшим значением **F1-меры** оказалась модель случайного леса со сбалансированными весами классов (**F1-мера ~ 0.660**) со следующимим гиперпараметрами:\n",
    "- максимальная глубина дерева (max_depth) - **9**;\n",
    "- минимальное число объектов в узле дерева (min_samples_split) - **9**;\n",
    "- минимальное число объектов в листьях дерева (min_samples_leaf) - **1**;\n",
    "- количество деревьев решений в лесу (n_estimators) - **30**."
   ]
  },
  {
   "cell_type": "markdown",
   "id": "cd770ef0",
   "metadata": {},
   "source": [
    "<a id='step_4'></a>\n",
    "## Тестирование модели"
   ]
  },
  {
   "cell_type": "markdown",
   "id": "383a7964",
   "metadata": {},
   "source": [
    "Рассмотрим, как случайный лес с подобранными гиперпараметрами (model_rfc2) поведёт себя с данными тестовой выборки."
   ]
  },
  {
   "cell_type": "code",
   "execution_count": 45,
   "id": "3afd960a",
   "metadata": {},
   "outputs": [
    {
     "name": "stdout",
     "output_type": "stream",
     "text": [
      "Значение F1-меры: 0.6128205128205128\n"
     ]
    }
   ],
   "source": [
    "# Предскажем результаты на модели случайного леса на тестовой выборке:\n",
    "predicted_rfc2 = model_rfc2.predict(features_test)\n",
    "# Рассчитаем F1-меру для тестовой выборки:\n",
    "result_rfc2 = f1_score(target_test, predicted_rfc2)\n",
    "# Выведем полученное значение F1-меры на экран:\n",
    "print(f'Значение F1-меры: {result_rfc2}')"
   ]
  },
  {
   "cell_type": "markdown",
   "id": "ea41669e",
   "metadata": {},
   "source": [
    "Сравним результаты с константной моделью, всегда предсказывающей положительный класс («1»):"
   ]
  },
  {
   "cell_type": "code",
   "execution_count": 46,
   "id": "64895cc3",
   "metadata": {},
   "outputs": [
    {
     "name": "stdout",
     "output_type": "stream",
     "text": [
      "Значение F1-меры константной модели: 0.3235023041474654\n"
     ]
    }
   ],
   "source": [
    "# Предскажем результаты на константной модели, которая всегда предсказывает положительный класс («1»):\n",
    "predicted_constant = pd.Series ([1] * len(target_test))\n",
    "# Рассчитаем F1-меру для тестовой выборки:\n",
    "result_constant = f1_score(target_test, predicted_constant)\n",
    "# Выведем полученное значение F1-меры на экран:\n",
    "print(f'Значение F1-меры константной модели: {result_constant}')"
   ]
  },
  {
   "cell_type": "code",
   "execution_count": 47,
   "id": "c4e7f4c7",
   "metadata": {},
   "outputs": [
    {
     "name": "stdout",
     "output_type": "stream",
     "text": [
      "Значение полноты: 0.6809116809116809\n"
     ]
    }
   ],
   "source": [
    "# Рассчитаем значение полноты выбранной модели для тестовой выборки:\n",
    "recall = recall_score(target_test, predicted_rfc2)\n",
    "# Выведем полученное значение полноты на экран:\n",
    "print(f'Значение полноты: {recall}')"
   ]
  },
  {
   "cell_type": "markdown",
   "id": "2d0917b1",
   "metadata": {},
   "source": [
    "На тестовой выборке с учётом дисбаланса классов удалось достичь **значения F1-меры равное ~0.613** (почти вдове выше чем у константной модели) и **значение полноты (recall) около 0.681**. Алгоритм верно интерпретирует **около 68%** объектов положительного класса.\n",
    "\n",
    "Построим ROC-кривую для модели second_model и сравним её со случайной моделью, рассчитав значение AUC-ROC."
   ]
  },
  {
   "cell_type": "code",
   "execution_count": 48,
   "id": "e64d7788",
   "metadata": {},
   "outputs": [
    {
     "data": {
      "image/png": "[encoded data removed]",
      "text/plain": [
       "<Figure size 600x600 with 1 Axes>"
      ]
     },
     "metadata": {},
     "output_type": "display_data"
    },
    {
     "name": "stdout",
     "output_type": "stream",
     "text": [
      "Значение ROC-AUC: 0.8626035383528571\n"
     ]
    }
   ],
   "source": [
    "# Построим ROC-кривую и рассчитаем ROC-AUC для first_model:\n",
    "roc_auc(model_rfc2, 'ROC-кривая наилучшей модели с учётом дисбаланса классов')"
   ]
  },
  {
   "cell_type": "markdown",
   "id": "b2122f1a",
   "metadata": {},
   "source": [
    "С учётом дисбаланса классов нам удалось достичь **значения F1-меры около 0.613** на тестовой выборке для отобранной модели (случайный лес со сбалансированными весами классов). Гиперпараметры наилучшей модели:\n",
    "- максимальная глубина дерева (max_depth) - **9**;\n",
    "- минимальное число объектов в узле дерева (min_samples_split) - **9**;\n",
    "- минимальное число объектов в листьях дерева (min_samples_leaf) - **1**;\n",
    "- количество деревьев решений в лесу (n_estimators) - **30**.\n",
    "\n",
    "Данное значение является удовлетворительным для решения поставленной задачи и почти вдове превышает **значения F1-меры** константной модели, всегда предсказывающей уход клиента из банка (**0.324**).\n",
    "\n",
    "Алгоритм верно интерпретирует **около 68%** объектов положительного класса (клиентов, покидающих банк) - **значение recall около 0.681**.\n",
    "\n",
    "**Значение метрики ROC-AUC равно примерно 0.863** - вероятность того, что наша модель сможет различить положительные и отрицательных значения класса довольно велика."
   ]
  },
  {
   "cell_type": "markdown",
   "id": "ae288b0e",
   "metadata": {},
   "source": [
    "<a id='step_5'></a>\n",
    "## Вывод"
   ]
  },
  {
   "cell_type": "markdown",
   "id": "c1dc4351",
   "metadata": {},
   "source": [
    "Работа над поставленной задачей проводилась в четыре этапа:\n",
    "\n",
    "**Первый этап - подготовка данных.** В ходе данного этапа:\n",
    "- было принято решение оптимизировать исходный датафрейм, убрав столбцы **RowNumber**,\t**CustomerId** и **Surname**.\n",
    "- устранены пропуски в столбце **tenure**. В результате исходный датафрейм сократился на **9.09%**;\n",
    "- выявлен дисбаланс классов целевого признака - факт ухода клиента: количество клиентов, покинувших банк - **20.4%**, количество клиентов банка - **79.6%**;\n",
    "- датафрейм был разделён на три выборки в соотношении 3:1:1. В тренировочной выборке насчитывается 5454 объекта (60%), в валидационной - 1819 объектов (20%), в тестовой - 1818 объектов (20%);\n",
    "- применено прямое кодирование к категориальным признакам и масштабирование численных признаков.\n",
    "\n",
    "**Второй этап - исследование задачи без учёта дисбаланса классов:**\n",
    "- были обучены три модели машинного обучения - **дерево решений (DecisionTreeClassifier)**, **случайный лес (RandomForestClassifier)** и **логистическая регрессию (LogisticRegression)**;\n",
    "- определена модель с наивысшим значением **F1-меры** - случайный лес (**F1-мера ~ 0.604** на валидационной выборке и **~ 0.565** на тестовой) с следующими гипрепараметрами:\n",
    "    - максимальная глубина дерева (max_depth) - **10**;\n",
    "    - минимальное число объектов в узле дерева (min_samples_split) - **13**;\n",
    "    - минимальное число объектов в листьях дерева (min_samples_leaf) - **3**;\n",
    "    - количество деревьев решений в лесу (n_estimators) - **10**.\n",
    "- построена ROC-кривая и рассчитано значение AUC-ROC (**~0.846**).\n",
    "\n",
    "**Третий этап - борьба с дисбалансом:**\n",
    "- было рассмотрено три способа: **взвешивание классов**, **увеличение выборки** и **уменьшение выборки**;\n",
    "- для каждого способа были обучены различные модели машинного обучения;\n",
    "- наилучшие результаты показали следующие модели:\n",
    "    - случайный лес при взешивании классов со **значением F1-меры ~0.660**;\n",
    "    - дерево решений при уменьшении выборки со **значением F1-меры ~0.592**;\n",
    "    - логистическая регрессия при уменьшении выборки со **значением F1-меры ~0.502**.\n",
    "- определена модель с наивысшим значением **F1-меры** - случайный лес (**F1-мера ~ 0.660** на валидационной выборке) со следующимим гиперпараметрами:\n",
    "    - максимальная глубина дерева (max_depth) - **9**;\n",
    "    - минимальное число объектов в узле дерева (min_samples_split) - **9**;\n",
    "    - минимальное число объектов в листьях дерева (min_samples_leaf) - **1**;\n",
    "    - количество деревьев решений в лесу (n_estimators) - **30**.\n",
    "\n",
    "**Четвёртый этап - тестирование модели:**\n",
    "- для выбранной модели было рассчитано значение **F1-меры** на тестовой выборке (**~0.613**);\n",
    "- проведено сравнение с константной моделью, всегда предсказывающей уход клиента из банка (**F1-мера ~0.324**). Значение **F1-меры** выбранной нами модели почти вдвое превышает значение константной;\n",
    "- рассчитано **значение полноты (recall) равное ~0.681**. Алгоритм верно интерпретирует **около 68%** объектов положительного класса (клиентов, покидающих банк);\n",
    "- построена ROC-кривая и рассчитано значение AUC-ROC (**~0.863**) - вероятность того, что наша модель сможет различить положительные и отрицательных значения класса довольно велика."
   ]
  }
 ],
 "metadata": {
  "kernelspec": {
   "display_name": "Python 3 (ipykernel)",
   "language": "python",
   "name": "python3"
  },
  "language_info": {
   "codemirror_mode": {
    "name": "ipython",
    "version": 3
   },
   "file_extension": ".py",
   "mimetype": "text/x-python",
   "name": "python",
   "nbconvert_exporter": "python",
   "pygments_lexer": "ipython3",
   "version": "3.9.15"
  }
 },
 "nbformat": 4,
 "nbformat_minor": 5
}
